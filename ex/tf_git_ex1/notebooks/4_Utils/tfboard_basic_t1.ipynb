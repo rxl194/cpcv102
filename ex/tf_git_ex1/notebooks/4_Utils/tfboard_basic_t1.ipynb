{
 "cells": [
  {
   "cell_type": "code",
   "execution_count": 1,
   "metadata": {
    "collapsed": true,
    "deletable": true,
    "editable": true
   },
   "outputs": [],
   "source": [
    "import tensorflow as tf"
   ]
  },
  {
   "cell_type": "code",
   "execution_count": 2,
   "metadata": {
    "collapsed": false,
    "deletable": true,
    "editable": true
   },
   "outputs": [
    {
     "name": "stdout",
     "output_type": "stream",
     "text": [
      "Extracting ./tf_mnist\\train-images-idx3-ubyte.gz\n",
      "Extracting ./tf_mnist\\train-labels-idx1-ubyte.gz\n",
      "Extracting ./tf_mnist\\t10k-images-idx3-ubyte.gz\n",
      "Extracting ./tf_mnist\\t10k-labels-idx1-ubyte.gz\n"
     ]
    }
   ],
   "source": [
    "from tensorflow.examples.tutorials.mnist import input_data\n",
    "mnist = input_data.read_data_sets(\"./tf_mnist\", one_hot=True)"
   ]
  },
  {
   "cell_type": "code",
   "execution_count": 3,
   "metadata": {
    "collapsed": true,
    "deletable": true,
    "editable": true
   },
   "outputs": [],
   "source": [
    "learning_rate = 1e-2\n",
    "training_epochs = 25\n",
    "batch_size = 100\n",
    "display_epoch = 1\n",
    "logs_path = './logs'"
   ]
  },
  {
   "cell_type": "code",
   "execution_count": 4,
   "metadata": {
    "collapsed": false,
    "deletable": true,
    "editable": true
   },
   "outputs": [],
   "source": [
    "graph = tf.Graph()\n",
    "with graph.as_default():\n",
    "    \n",
    "    Xtr = tf.placeholder(tf.float32, [None, 784], name='n_Xtr')\n",
    "    Ytr = tf.placeholder(tf.float32, [None, 10],  name='n_tr')\n",
    "    \n",
    "    t_w = tf.Variable(tf.random_normal([784,10], name='Weights'))\n",
    "    t_b = tf.Variable(tf.zeros([10], name='Biases'))\n",
    "    \n",
    "    with tf.name_scope('Model'):\n",
    "        pred = (tf.matmul(Xtr, t_w)+t_b)\n",
    "    \n",
    "    with tf.name_scope('Loss'):\n",
    "        cost = tf.reduce_mean(tf.nn.softmax_cross_entropy_with_logits(logits=pred, labels=Ytr))\n",
    "        \n",
    "    with tf.name_scope('SGD'):\n",
    "        optimizer = tf.train.GradientDescentOptimizer(learning_rate).minimize(cost)\n",
    "        \n",
    "    with tf.name_scope('Accuracy'):\n",
    "        correct_pred = tf.equal(tf.argmax(pred,1), tf.argmax(Ytr,1))\n",
    "        acc = tf.reduce_mean(tf.cast(correct_pred, tf.float32))\n",
    "        \n",
    "    init = tf.global_variables_initializer()\n",
    "    \n",
    "    # Create a summary to monitor cost tensor\n",
    "    tf.summary.scalar(\"loss\", cost)\n",
    "    tf.summary.scalar(\"accuracy\", acc)\n",
    "    \n",
    "    # Merge all summaries into a single op\n",
    "    merged_summary_op = tf.summary.merge_all()"
   ]
  },
  {
   "cell_type": "code",
   "execution_count": 5,
   "metadata": {
    "collapsed": false,
    "deletable": true,
    "editable": true
   },
   "outputs": [
    {
     "name": "stdout",
     "output_type": "stream",
     "text": [
      "Epoch:    1, cost: 9.5191, acc: 0.2100\n",
      "Epoch:    2, cost: 4.7122, acc: 0.4100\n",
      "Epoch:    3, cost: 3.2151, acc: 0.6400\n",
      "Epoch:    4, cost: 2.5123, acc: 0.5700\n",
      "Epoch:    5, cost: 2.1142, acc: 0.5200\n",
      "Epoch:    6, cost: 1.8591, acc: 0.6600\n",
      "Epoch:    7, cost: 1.6806, acc: 0.6900\n",
      "Epoch:    8, cost: 1.5480, acc: 0.6600\n",
      "Epoch:    9, cost: 1.4449, acc: 0.7100\n",
      "Epoch:   10, cost: 1.3624, acc: 0.7500\n",
      "Epoch:   11, cost: 1.2946, acc: 0.7700\n",
      "Epoch:   12, cost: 1.2375, acc: 0.7000\n",
      "Epoch:   13, cost: 1.1887, acc: 0.7700\n",
      "Epoch:   14, cost: 1.1464, acc: 0.8200\n",
      "Epoch:   15, cost: 1.1091, acc: 0.7400\n",
      "Epoch:   16, cost: 1.0762, acc: 0.8300\n",
      "Epoch:   17, cost: 1.0466, acc: 0.8200\n",
      "Epoch:   18, cost: 1.0199, acc: 0.7700\n",
      "Epoch:   19, cost: 0.9957, acc: 0.7700\n",
      "Epoch:   20, cost: 0.9735, acc: 0.7800\n",
      "Epoch:   21, cost: 0.9533, acc: 0.8400\n",
      "Epoch:   22, cost: 0.9344, acc: 0.8400\n",
      "Epoch:   23, cost: 0.9171, acc: 0.8300\n",
      "Epoch:   24, cost: 0.9009, acc: 0.8800\n",
      "Epoch:   25, cost: 0.8858, acc: 0.8300\n",
      "Optimization Finished!\n",
      "Accuracy: 0.8239\n",
      "Run the command line:\n",
      " --> tensorboard --logdir=./logs\n"
     ]
    }
   ],
   "source": [
    "with tf.Session(graph=graph) as sess:\n",
    "    sess.run(init)\n",
    "    \n",
    "    # op to write logs to Tensorboard\n",
    "    summary_writer = tf.summary.FileWriter(logs_path, graph=tf.get_default_graph())\n",
    "    \n",
    "    total_batch = int(mnist.train.num_examples/batch_size)\n",
    "    for epoch in range(training_epochs):\n",
    "        avg_cost = 0\n",
    "        for i in range(total_batch):\n",
    "            batch_x, batch_y = mnist.train.next_batch(batch_size)\n",
    "            _, cost_, summary_, acc_ = sess.run([optimizer, cost, merged_summary_op, acc],\n",
    "                            feed_dict={ Xtr: batch_x, Ytr: batch_y })\n",
    "            \n",
    "            # Write logs at every iteration\n",
    "            summary_writer.add_summary(summary_, epoch*total_batch+i)\n",
    "            avg_cost += cost_/total_batch\n",
    "        if (epoch+1) % display_epoch == 0:\n",
    "            print (\"Epoch: %4d, cost: %.4f, acc: %.4f\"% (epoch+1, avg_cost, acc_))\n",
    "    \n",
    "    print (\"Optimization Finished!\")\n",
    "    \n",
    "    # Test model\n",
    "    # Calculate accuracy\n",
    "    test_acc = acc.eval(feed_dict={Xtr: mnist.test.images, Ytr: mnist.test.labels})\n",
    "    print (\"Accuracy: %.4f\"% (test_acc))\n",
    "            \n",
    "    print (\"Run the command line:\\n\",\n",
    "           \"--> tensorboard --logdir=%s\"% (logs_path))"
   ]
  },
  {
   "cell_type": "code",
   "execution_count": null,
   "metadata": {
    "collapsed": true
   },
   "outputs": [],
   "source": []
  }
 ],
 "metadata": {
  "kernelspec": {
   "display_name": "Python 3",
   "language": "python",
   "name": "python3"
  },
  "language_info": {
   "codemirror_mode": {
    "name": "ipython",
    "version": 3
   },
   "file_extension": ".py",
   "mimetype": "text/x-python",
   "name": "python",
   "nbconvert_exporter": "python",
   "pygments_lexer": "ipython3",
   "version": "3.5.3"
  }
 },
 "nbformat": 4,
 "nbformat_minor": 2
}
