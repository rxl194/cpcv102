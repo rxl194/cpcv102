{
 "cells": [
  {
   "cell_type": "code",
   "execution_count": 1,
   "metadata": {
    "collapsed": true
   },
   "outputs": [],
   "source": [
    "import tensorflow as tf"
   ]
  },
  {
   "cell_type": "code",
   "execution_count": 2,
   "metadata": {
    "collapsed": false
   },
   "outputs": [
    {
     "name": "stdout",
     "output_type": "stream",
     "text": [
      "Extracting ./tf_mnist\\train-images-idx3-ubyte.gz\n",
      "Extracting ./tf_mnist\\train-labels-idx1-ubyte.gz\n",
      "Extracting ./tf_mnist\\t10k-images-idx3-ubyte.gz\n",
      "Extracting ./tf_mnist\\t10k-labels-idx1-ubyte.gz\n"
     ]
    }
   ],
   "source": [
    "from tensorflow.examples.tutorials.mnist import input_data\n",
    "mnist = input_data.read_data_sets(\"./tf_mnist\", one_hot=True)"
   ]
  },
  {
   "cell_type": "code",
   "execution_count": 3,
   "metadata": {
    "collapsed": true
   },
   "outputs": [],
   "source": [
    "learning_rate = 1e-3\n",
    "batch_size = 100\n",
    "display_step = 1\n",
    "model_path = \"./model.ckpt\""
   ]
  },
  {
   "cell_type": "code",
   "execution_count": 4,
   "metadata": {
    "collapsed": true
   },
   "outputs": [],
   "source": [
    "n_h1 = 256\n",
    "n_h2 = 256\n",
    "n_input = 28*28\n",
    "n_classes = 10"
   ]
  },
  {
   "cell_type": "code",
   "execution_count": 5,
   "metadata": {
    "collapsed": true
   },
   "outputs": [],
   "source": [
    "def MLP(x, weights, biases):\n",
    "    h1 = tf.nn.relu(tf.matmul(x,  weights['h1']) + biases['h1'])\n",
    "    h2 = tf.nn.relu(tf.matmul(h1, weights['h2']) + biases['h2'])\n",
    "    out = tf.matmul(h2, weights['out']) + biases['out']\n",
    "    return out"
   ]
  },
  {
   "cell_type": "code",
   "execution_count": 6,
   "metadata": {
    "collapsed": false
   },
   "outputs": [],
   "source": [
    "graph = tf.Graph()\n",
    "with graph.as_default():\n",
    "    \n",
    "    Xtr = tf.placeholder(tf.float32, [None, n_input])\n",
    "    Ytr = tf.placeholder(tf.float32, [None, n_classes])\n",
    "    \n",
    "    weights = {\n",
    "        'h1': tf.Variable(tf.random_normal([n_input, n_h1])),\n",
    "        'h2': tf.Variable(tf.random_normal([n_h1, n_h2])),\n",
    "        'out': tf.Variable(tf.random_normal([n_h2, n_classes]))\n",
    "    }\n",
    "    \n",
    "    biases = {\n",
    "        'h1': tf.Variable(tf.zeros([n_h1])),\n",
    "        'h2': tf.Variable(tf.zeros([n_h2])),\n",
    "        'out': tf.Variable(tf.zeros([n_classes]))\n",
    "    }\n",
    "    \n",
    "    pred = MLP(Xtr, weights, biases)\n",
    "    \n",
    "    # Cost and Optimizer\n",
    "    cost = tf.reduce_mean(tf.nn.softmax_cross_entropy_with_logits(logits=pred, labels=Ytr))\n",
    "    optimizer = tf.train.AdamOptimizer(learning_rate=learning_rate).minimize(cost)\n",
    "    \n",
    "    # Evaluation\n",
    "    correct_pred = tf.equal(tf.argmax(Ytr,1), tf.argmax(pred,1))\n",
    "    accuracy = tf.reduce_mean(tf.cast(correct_pred, tf.float32))\n",
    "    \n",
    "    # 'Saver' op to save and restore all variables\n",
    "    saver = tf.train.Saver()    \n",
    "    \n",
    "    # session init\n",
    "    init = tf.global_variables_initializer()"
   ]
  },
  {
   "cell_type": "code",
   "execution_count": 7,
   "metadata": {
    "collapsed": false
   },
   "outputs": [
    {
     "name": "stdout",
     "output_type": "stream",
     "text": [
      "Epoch: 0, avg_cost: 199.5351, accuracy: 0.8900\n",
      "Epoch: 1, avg_cost: 45.5584, accuracy: 0.8300\n",
      "Epoch: 2, avg_cost: 28.2303, accuracy: 0.9000\n",
      "First Optimization Finished!\n",
      "Test Accuracy: 0.9123\n",
      "Model saved in file: ./model.ckpt\n"
     ]
    }
   ],
   "source": [
    "with tf.Session(graph=graph) as sess:\n",
    "    sess.run(init)\n",
    "    \n",
    "    for epoch in range(3):\n",
    "        total_batch = int(mnist.train.num_examples/batch_size)\n",
    "        avg_cost = 0.0\n",
    "        for i in range(total_batch):\n",
    "            batch_x, batch_y = mnist.train.next_batch(batch_size)\n",
    "            feed_dict = { Xtr: batch_x, Ytr: batch_y  }\n",
    "            _, c_ = sess.run([optimizer, cost], feed_dict=feed_dict)\n",
    "            avg_cost += c_/total_batch\n",
    "        if epoch % display_step == 0:\n",
    "            train_accuracy = accuracy.eval(feed_dict=feed_dict)\n",
    "            print (\"Epoch: %d, avg_cost: %.4f, accuracy: %.4f\"%\n",
    "                  (epoch, avg_cost, train_accuracy))\n",
    "    print (\"First Optimization Finished!\")\n",
    "    \n",
    "    # Test model\n",
    "    test_accuracy = accuracy.eval(feed_dict={Xtr: mnist.test.images, Ytr: mnist.test.labels})\n",
    "    print (\"Test Accuracy: %.4f\"% (test_accuracy))\n",
    "    \n",
    "    # Save model weights to disk\n",
    "    save_path = saver.save(sess, model_path)\n",
    "    print (\"Model saved in file: %s\"% (save_path))"
   ]
  },
  {
   "cell_type": "code",
   "execution_count": 10,
   "metadata": {
    "collapsed": false
   },
   "outputs": [
    {
     "name": "stdout",
     "output_type": "stream",
     "text": [
      "Staring 2nd session...\n",
      "Model restored from file:  ./model.ckpt\n",
      "Epoch: 0, avg_cost: 19.7482, accuracy: 0.9000\n",
      "Epoch: 1, avg_cost: 14.5744, accuracy: 0.9100\n",
      "Epoch: 2, avg_cost: 10.9540, accuracy: 0.8900\n",
      "Epoch: 3, avg_cost: 8.2293, accuracy: 0.9900\n",
      "Epoch: 4, avg_cost: 6.2116, accuracy: 0.9600\n",
      "Epoch: 5, avg_cost: 4.6374, accuracy: 0.9800\n",
      "Epoch: 6, avg_cost: 3.5798, accuracy: 0.9900\n",
      "Second Optimization Finished!\n",
      "Test Accuracy: 0.9393\n"
     ]
    }
   ],
   "source": [
    "print (\"Staring 2nd session...\")\n",
    "with tf.Session(graph=graph) as sess:\n",
    "    sess.run(init)\n",
    "    \n",
    "    # Restore model weights from previously \n",
    "    load_path = saver.restore(sess, model_path)\n",
    "    print (\"Model restored from file: \", save_path)\n",
    "    \n",
    "    for epoch in range(7):\n",
    "        total_batch = int(mnist.train.num_examples/batch_size)\n",
    "        avg_cost = 0.0\n",
    "        for i in range(total_batch):\n",
    "            batch_x, batch_y = mnist.train.next_batch(batch_size)\n",
    "            feed_dict = { Xtr: batch_x, Ytr: batch_y  }\n",
    "            _, c_ = sess.run([optimizer, cost], feed_dict=feed_dict)\n",
    "            avg_cost += c_/total_batch\n",
    "        if epoch % display_step == 0:\n",
    "            train_accuracy = accuracy.eval(feed_dict=feed_dict)\n",
    "            print (\"Epoch: %d, avg_cost: %.4f, accuracy: %.4f\"%\n",
    "                  (epoch, avg_cost, train_accuracy))\n",
    "    print (\"Second Optimization Finished!\")\n",
    "    \n",
    "    # Test model\n",
    "    test_accuracy = accuracy.eval(feed_dict={Xtr: mnist.test.images, Ytr: mnist.test.labels})\n",
    "    print (\"Test Accuracy: %.4f\"% (test_accuracy))\n",
    "        "
   ]
  },
  {
   "cell_type": "code",
   "execution_count": null,
   "metadata": {
    "collapsed": true
   },
   "outputs": [],
   "source": []
  }
 ],
 "metadata": {
  "kernelspec": {
   "display_name": "Python 3",
   "language": "python",
   "name": "python3"
  },
  "language_info": {
   "codemirror_mode": {
    "name": "ipython",
    "version": 3
   },
   "file_extension": ".py",
   "mimetype": "text/x-python",
   "name": "python",
   "nbconvert_exporter": "python",
   "pygments_lexer": "ipython3",
   "version": "3.5.3"
  }
 },
 "nbformat": 4,
 "nbformat_minor": 2
}
