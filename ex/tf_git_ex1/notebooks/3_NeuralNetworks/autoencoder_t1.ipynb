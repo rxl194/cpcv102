{
 "cells": [
  {
   "cell_type": "code",
   "execution_count": 1,
   "metadata": {
    "collapsed": true
   },
   "outputs": [],
   "source": [
    "%matplotlib inline\n",
    "import numpy as np\n",
    "import matplotlib.pyplot as plt\n",
    "import tensorflow as tf\n",
    "import input_data"
   ]
  },
  {
   "cell_type": "code",
   "execution_count": 2,
   "metadata": {
    "collapsed": false
   },
   "outputs": [
    {
     "name": "stdout",
     "output_type": "stream",
     "text": [
      "Extracting tf_mnist\\train-images-idx3-ubyte.gz\n",
      "Extracting tf_mnist\\train-labels-idx1-ubyte.gz\n",
      "Extracting tf_mnist\\t10k-images-idx3-ubyte.gz\n",
      "Extracting tf_mnist\\t10k-labels-idx1-ubyte.gz\n"
     ]
    }
   ],
   "source": [
    "mnist = input_data.read_data_sets(\"tf_mnist\", one_hot=True)"
   ]
  },
  {
   "cell_type": "code",
   "execution_count": 3,
   "metadata": {
    "collapsed": true
   },
   "outputs": [],
   "source": [
    "learning_rate = 1e-2\n",
    "n_train_steps = 20\n",
    "batch_size = 128\n",
    "display_step = 1\n",
    "n_examples_to_show = 10"
   ]
  },
  {
   "cell_type": "code",
   "execution_count": 4,
   "metadata": {
    "collapsed": true
   },
   "outputs": [],
   "source": [
    "n_h1 = 256\n",
    "n_h2 = 128\n",
    "n_input = 784"
   ]
  },
  {
   "cell_type": "code",
   "execution_count": 5,
   "metadata": {
    "collapsed": true
   },
   "outputs": [],
   "source": [
    "def encoder(x, w, b):\n",
    "    eh1 = tf.nn.sigmoid( tf.matmul(x,   w['eh1']) + b['eh1'] )\n",
    "    eh2 = tf.nn.sigmoid( tf.matmul(eh1, w['eh2']) + b['eh2'] )\n",
    "    return eh2"
   ]
  },
  {
   "cell_type": "code",
   "execution_count": 6,
   "metadata": {
    "collapsed": true
   },
   "outputs": [],
   "source": [
    "def decoder(x, w, b):\n",
    "    dh1 = tf.nn.sigmoid( tf.matmul(x,   w['dh1'] + b['dh1']) )\n",
    "    dh2 = tf.nn.sigmoid( tf.matmul(dh1, w['dh2'] + b['dh2']) )\n",
    "    return dh2"
   ]
  },
  {
   "cell_type": "code",
   "execution_count": 7,
   "metadata": {
    "collapsed": false
   },
   "outputs": [],
   "source": [
    "graph = tf.Graph()\n",
    "\n",
    "with graph.as_default():\n",
    "    \n",
    "    Xtr = tf.placeholder(tf.float32, [None, n_input])\n",
    "    \n",
    "    weights = {\n",
    "        'eh1': tf.Variable(tf.random_normal([n_input, n_h1])),\n",
    "        'eh2': tf.Variable(tf.random_normal([n_h1, n_h2])),\n",
    "        'dh1': tf.Variable(tf.random_normal([n_h2, n_h1])),\n",
    "        'dh2': tf.Variable(tf.random_normal([n_h1, n_input])),\n",
    "    }\n",
    "    biases = {\n",
    "        'eh1': tf.Variable(tf.zeros([n_h1])),\n",
    "        'eh2': tf.Variable(tf.zeros([n_h2])),\n",
    "        'dh1': tf.Variable(tf.zeros([n_h1])), \n",
    "        'dh2': tf.Variable(tf.zeros([n_input])),\n",
    "    }\n",
    "        \n",
    "    encoder_op = encoder(Xtr, weights, biases)\n",
    "    Ypred = decoder(encoder_op, weights, biases)\n",
    "    \n",
    "    cost = tf.reduce_mean( tf.pow(Ypred - Xtr, 2) )\n",
    "    train_op = tf.train.RMSPropOptimizer(learning_rate).minimize(cost)"
   ]
  },
  {
   "cell_type": "code",
   "execution_count": 8,
   "metadata": {
    "collapsed": false
   },
   "outputs": [
    {
     "name": "stdout",
     "output_type": "stream",
     "text": [
      "Step: 0, cost: 0.1203\n",
      "Step: 1, cost: 0.0948\n",
      "Step: 2, cost: 0.0845\n",
      "Step: 3, cost: 0.0766\n",
      "Step: 4, cost: 0.0724\n",
      "Step: 5, cost: 0.0661\n",
      "Step: 6, cost: 0.0666\n",
      "Step: 7, cost: 0.0654\n",
      "Step: 8, cost: 0.0612\n",
      "Step: 9, cost: 0.0588\n",
      "Step: 10, cost: 0.0609\n",
      "Step: 11, cost: 0.0577\n",
      "Step: 12, cost: 0.0564\n",
      "Step: 13, cost: 0.0563\n",
      "Step: 14, cost: 0.0542\n",
      "Step: 15, cost: 0.0527\n",
      "Step: 16, cost: 0.0527\n",
      "Step: 17, cost: 0.0545\n",
      "Step: 18, cost: 0.0512\n",
      "Step: 19, cost: 0.0532\n",
      "Optimization Finished!\n"
     ]
    }
   ],
   "source": [
    "with tf.Session(graph=graph) as sess:\n",
    "    \n",
    "    tf.global_variables_initializer().run()\n",
    "    \n",
    "    total_batch = int(mnist.train.num_examples/batch_size)\n",
    "    for step in range(n_train_steps):\n",
    "        for i in range(total_batch):\n",
    "            batch_x, batch_y = mnist.train.next_batch(batch_size)\n",
    "            _, c_ = sess.run([train_op, cost], feed_dict={ Xtr: batch_x })\n",
    "        if step % display_step == 0:\n",
    "            print (\"Step: %d, cost: %.4f\"% (step, c_))\n",
    "    \n",
    "    print (\"Optimization Finished!\")\n",
    "    \n",
    "    encode_decode_test = sess.run(Ypred, feed_dict={\n",
    "        Xtr: mnist.test.images[:n_examples_to_show]})                "
   ]
  },
  {
   "cell_type": "code",
   "execution_count": 9,
   "metadata": {
    "collapsed": false
   },
   "outputs": [
    {
     "name": "stderr",
     "output_type": "stream",
     "text": [
      "D:\\py\\A3_64\\envs\\tensorflow-3-64\\lib\\site-packages\\matplotlib\\figure.py:402: UserWarning: matplotlib is currently using a non-GUI backend, so cannot show the figure\n",
      "  \"matplotlib is currently using a non-GUI backend, \"\n"
     ]
    },
    {
     "data": {
      "image/png": "[encoded data removed]",
      "text/plain": [
       "<matplotlib.figure.Figure at 0x21cff960320>"
      ]
     },
     "metadata": {},
     "output_type": "display_data"
    }
   ],
   "source": [
    "f, a = plt.subplots(2, 10, figsize=(10,2) )\n",
    "for i in range(n_examples_to_show):\n",
    "    a[0][i].imshow(np.reshape(mnist.test.images[i], (28,28)))\n",
    "    a[1][i].imshow(np.reshape(encode_decode_test[i], (28,28)))\n",
    "f.show()\n",
    "plt.draw()"
   ]
  },
  {
   "cell_type": "code",
   "execution_count": null,
   "metadata": {
    "collapsed": true
   },
   "outputs": [],
   "source": []
  },
  {
   "cell_type": "code",
   "execution_count": null,
   "metadata": {
    "collapsed": true
   },
   "outputs": [],
   "source": []
  }
 ],
 "metadata": {
  "kernelspec": {
   "display_name": "Python 3",
   "language": "python",
   "name": "python3"
  },
  "language_info": {
   "codemirror_mode": {
    "name": "ipython",
    "version": 3
   },
   "file_extension": ".py",
   "mimetype": "text/x-python",
   "name": "python",
   "nbconvert_exporter": "python",
   "pygments_lexer": "ipython3",
   "version": "3.5.3"
  }
 },
 "nbformat": 4,
 "nbformat_minor": 2
}
