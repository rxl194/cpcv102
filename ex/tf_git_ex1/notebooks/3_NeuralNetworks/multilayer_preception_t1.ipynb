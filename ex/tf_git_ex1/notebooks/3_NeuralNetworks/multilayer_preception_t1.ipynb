{
 "cells": [
  {
   "cell_type": "code",
   "execution_count": 1,
   "metadata": {
    "collapsed": true
   },
   "outputs": [],
   "source": [
    "import numpy as np\n",
    "import tensorflow as tf\n",
    "import input_data"
   ]
  },
  {
   "cell_type": "code",
   "execution_count": 2,
   "metadata": {
    "collapsed": false
   },
   "outputs": [
    {
     "name": "stdout",
     "output_type": "stream",
     "text": [
      "Extracting tf_mnist\\train-images-idx3-ubyte.gz\n",
      "Extracting tf_mnist\\train-labels-idx1-ubyte.gz\n",
      "Extracting tf_mnist\\t10k-images-idx3-ubyte.gz\n",
      "Extracting tf_mnist\\t10k-labels-idx1-ubyte.gz\n"
     ]
    }
   ],
   "source": [
    "mnist = input_data.read_data_sets(\"tf_mnist\", one_hot=True)"
   ]
  },
  {
   "cell_type": "code",
   "execution_count": 3,
   "metadata": {
    "collapsed": true
   },
   "outputs": [],
   "source": [
    "learning_rate = 1e-2\n",
    "n_train_steps = 15\n",
    "batch_size = 100\n",
    "display_step = 1"
   ]
  },
  {
   "cell_type": "code",
   "execution_count": 4,
   "metadata": {
    "collapsed": true
   },
   "outputs": [],
   "source": [
    "n_h1 = 256\n",
    "n_h2 = 256\n",
    "n_input = 784\n",
    "n_classes = 10"
   ]
  },
  {
   "cell_type": "code",
   "execution_count": 5,
   "metadata": {
    "collapsed": true
   },
   "outputs": [],
   "source": [
    "def multilayer_perception(x, weights, biases):\n",
    "    h1 = tf.nn.relu( tf.matmul(x, weights['h1']) + biases['h1'] )\n",
    "    h2 = tf.nn.relu( tf.matmul(h1, weights['h2'] + biases['h2']) )\n",
    "    output = tf.matmul( h2, weights['out'] + biases['out'] )\n",
    "    return output"
   ]
  },
  {
   "cell_type": "code",
   "execution_count": 6,
   "metadata": {
    "collapsed": false
   },
   "outputs": [],
   "source": [
    "graph = tf.Graph()\n",
    "with graph.as_default():\n",
    "    weights = {\n",
    "        'h1': tf.Variable(tf.random_normal([n_input, n_h1])),\n",
    "        'h2': tf.Variable(tf.random_normal([n_h1, n_h2])),\n",
    "        'out': tf.Variable(tf.random_normal([n_h2, n_classes]))\n",
    "    }\n",
    "    biases = {\n",
    "        'h1': tf.Variable(tf.zeros([n_h1])),\n",
    "        'h2': tf.Variable(tf.zeros([n_h2])),\n",
    "        'out': tf.Variable(tf.zeros([n_classes]))\n",
    "    }\n",
    "\n",
    "    Xtr = tf.placeholder(tf.float32, [None, n_input])\n",
    "    Ytr = tf.placeholder(tf.float32, [None, n_classes])\n",
    "\n",
    "    Yact = multilayer_perception(Xtr, weights, biases)\n",
    "\n",
    "    cost = tf.reduce_mean( tf.nn.softmax_cross_entropy_with_logits(\n",
    "        logits = Yact, labels = Ytr))\n",
    "    tf_train = tf.train.AdamOptimizer(learning_rate).minimize(cost)\n",
    "    \n",
    "    correct_pred = tf.equal ( tf.argmax(Yact, 1), tf.argmax(Ytr, 1))\n",
    "    train_acc = tf.reduce_mean( tf.cast(correct_pred, tf.float32) )"
   ]
  },
  {
   "cell_type": "code",
   "execution_count": 7,
   "metadata": {
    "collapsed": false
   },
   "outputs": [
    {
     "name": "stdout",
     "output_type": "stream",
     "text": [
      "Step:    1, cost: 51.9743, train_acc: 0.8659\n",
      "Step:    2, cost: 7.9366, train_acc: 0.9360\n",
      "Step:    3, cost: 4.2065, train_acc: 0.9531\n",
      "Step:    4, cost: 2.6413, train_acc: 0.9628\n",
      "Step:    5, cost: 2.0798, train_acc: 0.9678\n",
      "Step:    6, cost: 1.6323, train_acc: 0.9718\n",
      "Step:    7, cost: 1.6164, train_acc: 0.9706\n",
      "Step:    8, cost: 1.3064, train_acc: 0.9735\n",
      "Step:    9, cost: 1.2482, train_acc: 0.9737\n",
      "Step:   10, cost: 1.0475, train_acc: 0.9754\n",
      "Step:   11, cost: 0.8534, train_acc: 0.9764\n",
      "Step:   12, cost: 0.6673, train_acc: 0.9779\n",
      "Step:   13, cost: 0.6789, train_acc: 0.9756\n",
      "Step:   14, cost: 0.4657, train_acc: 0.9787\n",
      "Step:   15, cost: 0.4619, train_acc: 0.9781\n",
      "Optimization finished\n",
      "Test Accuracy: 0.9515\n"
     ]
    }
   ],
   "source": [
    "total_batch = int(mnist.train.num_examples/batch_size)\n",
    "with tf.Session(graph=graph) as sess:\n",
    "    tf.global_variables_initializer().run()\n",
    "    for step in range(n_train_steps):\n",
    "        avg_cost = 0.\n",
    "        avg_train_acc = 0.\n",
    "        for i in range(total_batch):\n",
    "            batch_x, batch_y = mnist.train.next_batch(batch_size)\n",
    "            _, c_, train_acc_ = sess.run([tf_train, cost, train_acc], feed_dict={\n",
    "                Xtr: batch_x, Ytr: batch_y })\n",
    "            avg_cost += float(c_)/total_batch\n",
    "            avg_train_acc += float(train_acc_)/total_batch\n",
    "        if (step+1) % display_step == 0:\n",
    "            print (\"Step: %4d, cost: %.4f, train_acc: %.4f\"% \n",
    "                   (step+1, avg_cost, avg_train_acc))\n",
    "    \n",
    "    print (\"Optimization finished\")\n",
    "    \n",
    "    test_acc = train_acc.eval( feed_dict = {\n",
    "        Xtr: mnist.test.images, Ytr: mnist.test.labels })\n",
    "    print (\"Test Accuracy: %.4f\"% (test_acc))"
   ]
  },
  {
   "cell_type": "code",
   "execution_count": null,
   "metadata": {
    "collapsed": true
   },
   "outputs": [],
   "source": []
  }
 ],
 "metadata": {
  "kernelspec": {
   "display_name": "Python 3",
   "language": "python",
   "name": "python3"
  },
  "language_info": {
   "codemirror_mode": {
    "name": "ipython",
    "version": 3
   },
   "file_extension": ".py",
   "mimetype": "text/x-python",
   "name": "python",
   "nbconvert_exporter": "python",
   "pygments_lexer": "ipython3",
   "version": "3.5.3"
  }
 },
 "nbformat": 4,
 "nbformat_minor": 2
}
