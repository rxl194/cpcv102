{
 "cells": [
  {
   "cell_type": "code",
   "execution_count": 1,
   "metadata": {
    "collapsed": true,
    "deletable": true,
    "editable": true
   },
   "outputs": [],
   "source": [
    "import tensorflow as tf\n",
    "import input_data"
   ]
  },
  {
   "cell_type": "code",
   "execution_count": 2,
   "metadata": {
    "collapsed": false,
    "deletable": true,
    "editable": true
   },
   "outputs": [
    {
     "name": "stdout",
     "output_type": "stream",
     "text": [
      "Extracting tf_mnist\\train-images-idx3-ubyte.gz\n",
      "Extracting tf_mnist\\train-labels-idx1-ubyte.gz\n",
      "Extracting tf_mnist\\t10k-images-idx3-ubyte.gz\n",
      "Extracting tf_mnist\\t10k-labels-idx1-ubyte.gz\n"
     ]
    }
   ],
   "source": [
    "mnist = input_data.read_data_sets(\"tf_mnist\", one_hot='True')"
   ]
  },
  {
   "cell_type": "code",
   "execution_count": 3,
   "metadata": {
    "collapsed": true,
    "deletable": true,
    "editable": true
   },
   "outputs": [],
   "source": [
    "learing_rate = 1e-3\n",
    "n_train_size = 200000\n",
    "batch_size = 128\n",
    "display_step = 50"
   ]
  },
  {
   "cell_type": "code",
   "execution_count": 4,
   "metadata": {
    "collapsed": true,
    "deletable": true,
    "editable": true
   },
   "outputs": [],
   "source": [
    "n_image_size = 28\n",
    "n_input = n_image_size * n_image_size\n",
    "n_classes = 10\n",
    "dropout = 0.75\n",
    "n_fc1_size = int(n_input/16)"
   ]
  },
  {
   "cell_type": "code",
   "execution_count": 5,
   "metadata": {
    "collapsed": true,
    "deletable": true,
    "editable": true
   },
   "outputs": [],
   "source": [
    "def conv2d(x, W, b, strides=1):\n",
    "    output = tf.nn.conv2d(x, W, strides=[1, strides, strides, 1], padding='SAME')\n",
    "    output = tf.nn.relu( output + b )\n",
    "    return output    "
   ]
  },
  {
   "cell_type": "code",
   "execution_count": 6,
   "metadata": {
    "collapsed": true,
    "deletable": true,
    "editable": true
   },
   "outputs": [],
   "source": [
    "def maxpool2d(x, k=2):\n",
    "    return tf.nn.max_pool(x, ksize=[1, k, k, 1], strides=[1, k, k, 1], \n",
    "               padding='SAME')"
   ]
  },
  {
   "cell_type": "code",
   "execution_count": 7,
   "metadata": {
    "collapsed": true,
    "deletable": true,
    "editable": true
   },
   "outputs": [],
   "source": [
    "def conv_net(x, weights, biases, dropout):\n",
    "    x = tf.reshape(x, shape=[-1, n_image_size, n_image_size, 1])\n",
    "    \n",
    "    h1 = maxpool2d( conv2d(x,  weights['h1'], biases['h1']) )    \n",
    "    h2 = maxpool2d( conv2d(h1, weights['h2'], biases['h2']) )\n",
    "    \n",
    "    fc1 = tf.reshape(h2, [-1, weights['fc1'].get_shape().as_list()[0]])\n",
    "    fc1 = tf.nn.relu( tf.matmul(fc1, weights['fc1']) + biases['fc1'] )\n",
    "    fc1 = tf.nn.dropout(fc1, dropout)\n",
    "    \n",
    "    return tf.matmul(fc1, weights['out']) + biases['out']        "
   ]
  },
  {
   "cell_type": "code",
   "execution_count": 8,
   "metadata": {
    "collapsed": false,
    "deletable": true,
    "editable": true
   },
   "outputs": [],
   "source": [
    "graph = tf.Graph()\n",
    "with graph.as_default():\n",
    "    \n",
    "    Xtr = tf.placeholder(tf.float32, [None, n_input])\n",
    "    Ytr = tf.placeholder(tf.float32, [None, n_classes])\n",
    "    keep_prob = tf.placeholder(tf.float32)\n",
    "    \n",
    "    weights = {\n",
    "        \"h1\": tf.Variable(tf.random_normal([5, 5, 1, 32])),\n",
    "        \"h2\": tf.Variable(tf.random_normal([5, 5, 32, 64])),\n",
    "        \"fc1\": tf.Variable(tf.random_normal([n_fc1_size*64, 1024])),\n",
    "        \"out\": tf.Variable(tf.random_normal([1024, n_classes]))\n",
    "    }\n",
    "    \n",
    "    biases = {\n",
    "        \"h1\": tf.Variable(tf.zeros([32])),\n",
    "        \"h2\": tf.Variable(tf.zeros([64])),\n",
    "        \"fc1\": tf.Variable(tf.zeros([1024])),\n",
    "        \"out\": tf.Variable(tf.zeros([n_classes]))\n",
    "    }\n",
    "\n",
    "    Ypred = conv_net(Xtr, weights, biases, keep_prob)\n",
    "    \n",
    "    cost = tf.reduce_mean( tf.nn.softmax_cross_entropy_with_logits(\n",
    "        logits=Ypred, labels=Ytr ))\n",
    "    tf_train = tf.train.AdamOptimizer(learing_rate).minimize(cost)\n",
    "    \n",
    "    correct_pred = tf.equal( tf.argmax(Ypred, 1), tf.argmax(Ytr, 1) )\n",
    "    train_acc = tf.reduce_mean( tf.cast(correct_pred, tf.float32) )"
   ]
  },
  {
   "cell_type": "code",
   "execution_count": 9,
   "metadata": {
    "collapsed": false,
    "deletable": true,
    "editable": true
   },
   "outputs": [
    {
     "name": "stdout",
     "output_type": "stream",
     "text": [
      "Iter: 6400, loss: 3009.7063, train accuracy: 0.8516\n",
      "Iter: 12800, loss: 3012.7568, train accuracy: 0.8281\n",
      "Iter: 19200, loss: 895.7406, train accuracy: 0.8906\n",
      "Iter: 25600, loss: 964.8881, train accuracy: 0.9141\n",
      "Iter: 32000, loss: 789.8167, train accuracy: 0.9297\n",
      "Iter: 38400, loss: 418.6167, train accuracy: 0.9609\n",
      "Iter: 44800, loss: 212.3507, train accuracy: 0.9766\n",
      "Iter: 51200, loss: 532.3846, train accuracy: 0.9531\n",
      "Iter: 57600, loss: 903.1747, train accuracy: 0.9062\n",
      "Iter: 64000, loss: 545.1428, train accuracy: 0.9609\n",
      "Iter: 70400, loss: 747.3668, train accuracy: 0.9609\n",
      "Iter: 76800, loss: 442.9000, train accuracy: 0.9453\n",
      "Iter: 83200, loss: 491.5665, train accuracy: 0.9375\n",
      "Iter: 89600, loss: 473.8859, train accuracy: 0.9609\n",
      "Iter: 96000, loss: 1103.5457, train accuracy: 0.9375\n",
      "Iter: 102400, loss: 72.3549, train accuracy: 0.9766\n",
      "Iter: 108800, loss: 222.1935, train accuracy: 0.9766\n",
      "Iter: 115200, loss: 206.4553, train accuracy: 0.9766\n",
      "Iter: 121600, loss: 55.9769, train accuracy: 0.9922\n",
      "Iter: 128000, loss: 341.7094, train accuracy: 0.9766\n",
      "Iter: 134400, loss: 165.7553, train accuracy: 0.9844\n",
      "Iter: 140800, loss: 212.6294, train accuracy: 0.9688\n",
      "Iter: 147200, loss: 462.0229, train accuracy: 0.9453\n",
      "Iter: 153600, loss: 47.9808, train accuracy: 0.9844\n",
      "Iter: 160000, loss: 60.6096, train accuracy: 0.9922\n",
      "Iter: 166400, loss: 60.5162, train accuracy: 0.9688\n",
      "Iter: 172800, loss: 97.3350, train accuracy: 0.9688\n",
      "Iter: 179200, loss: 68.4188, train accuracy: 0.9609\n",
      "Iter: 185600, loss: 120.2852, train accuracy: 0.9609\n",
      "Iter: 192000, loss: 45.7915, train accuracy: 0.9844\n",
      "Iter: 198400, loss: 0.0000, train accuracy: 1.0000\n",
      "Optimization Finished!\n",
      "Test Accuracy: 0.9805\n"
     ]
    }
   ],
   "source": [
    "with tf.Session(graph=graph) as sess:\n",
    "    tf.global_variables_initializer().run()\n",
    "    train_step = 1\n",
    "    while train_step * batch_size < n_train_size:\n",
    "        batch_x, batch_y = mnist.train.next_batch(batch_size)\n",
    "        sess.run(tf_train, feed_dict={\n",
    "            Xtr: batch_x, Ytr: batch_y, keep_prob: dropout })\n",
    "        if train_step % display_step == 0:\n",
    "            cost_, train_acc_ = sess.run([cost, train_acc], feed_dict={\n",
    "                Xtr: batch_x, Ytr: batch_y, keep_prob: 1.0 })\n",
    "            print (\"Iter: %d, loss: %.4f, train accuracy: %.4f\"% \n",
    "                  (train_step*batch_size, cost_, train_acc_))\n",
    "        train_step += 1\n",
    "    \n",
    "    print (\"Optimization Finished!\")\n",
    "    train_acc_ = train_acc.eval(feed_dict={\n",
    "        Xtr: mnist.test.images[:batch_size*2],\n",
    "        Ytr: mnist.test.labels[:batch_size*2],\n",
    "        keep_prob: 1.0 })\n",
    "    print (\"Test Accuracy: %.4f\"% (train_acc_))            "
   ]
  },
  {
   "cell_type": "code",
   "execution_count": null,
   "metadata": {
    "collapsed": true,
    "deletable": true,
    "editable": true
   },
   "outputs": [],
   "source": []
  },
  {
   "cell_type": "code",
   "execution_count": null,
   "metadata": {
    "collapsed": true,
    "deletable": true,
    "editable": true
   },
   "outputs": [],
   "source": []
  }
 ],
 "metadata": {
  "kernelspec": {
   "display_name": "Python 3",
   "language": "python",
   "name": "python3"
  },
  "language_info": {
   "codemirror_mode": {
    "name": "ipython",
    "version": 3
   },
   "file_extension": ".py",
   "mimetype": "text/x-python",
   "name": "python",
   "nbconvert_exporter": "python",
   "pygments_lexer": "ipython3",
   "version": "3.5.3"
  }
 },
 "nbformat": 4,
 "nbformat_minor": 2
}
