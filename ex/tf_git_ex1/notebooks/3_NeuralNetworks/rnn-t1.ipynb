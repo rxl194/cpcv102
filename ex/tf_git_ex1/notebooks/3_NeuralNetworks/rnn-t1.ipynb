{
 "cells": [
  {
   "cell_type": "code",
   "execution_count": 1,
   "metadata": {
    "collapsed": true
   },
   "outputs": [],
   "source": [
    "import tensorflow as tf\n",
    "from tensorflow.contrib import rnn\n",
    "import numpy as np"
   ]
  },
  {
   "cell_type": "code",
   "execution_count": 2,
   "metadata": {
    "collapsed": false
   },
   "outputs": [
    {
     "name": "stdout",
     "output_type": "stream",
     "text": [
      "Extracting ./tf_mnist\\train-images-idx3-ubyte.gz\n",
      "Extracting ./tf_mnist\\train-labels-idx1-ubyte.gz\n",
      "Extracting ./tf_mnist\\t10k-images-idx3-ubyte.gz\n",
      "Extracting ./tf_mnist\\t10k-labels-idx1-ubyte.gz\n"
     ]
    }
   ],
   "source": [
    "# import input_data\n",
    "from tensorflow.examples.tutorials.mnist import input_data\n",
    "mnist = input_data.read_data_sets(\"./tf_mnist\", one_hot=True)"
   ]
  },
  {
   "cell_type": "code",
   "execution_count": 3,
   "metadata": {
    "collapsed": true
   },
   "outputs": [],
   "source": [
    "learning_rate = 1e-3\n",
    "training_iters = 100000\n",
    "batch_size = 128\n",
    "display_step = 25"
   ]
  },
  {
   "cell_type": "code",
   "execution_count": 4,
   "metadata": {
    "collapsed": true
   },
   "outputs": [],
   "source": [
    "n_input = 28\n",
    "n_steps = 28\n",
    "n_h1 = 128\n",
    "n_label = 10"
   ]
  },
  {
   "cell_type": "code",
   "execution_count": 5,
   "metadata": {
    "collapsed": true
   },
   "outputs": [],
   "source": [
    "def RNN(x, weights, biases):\n",
    "    # Prepare data shape to match 'rnn' function requirement\n",
    "    # Current data input shape: (batch_size, n_steps, n_input)\n",
    "    # Required shape: 'n_steps' tensors list of shape (batch_size, n_input)\n",
    "    \n",
    "    # Unstack to get a list of 'n_steps' tensors of shape (batch_size, n_input)\n",
    "    x = tf.unstack(x, num=n_steps, axis=1)\n",
    "    \n",
    "    # Define a lstm cell with tensorflow\n",
    "    lstm_cell = rnn.BasicLSTMCell(n_h1, forget_bias=1.0)\n",
    "    \n",
    "    # Get lstm cell output\n",
    "    outputs, states = rnn.static_rnn(lstm_cell, x, dtype=tf.float32)\n",
    "    \n",
    "    # Linear activation, using rnn inner loop last output\n",
    "    return tf.matmul(outputs[-1], weights['out']) + biases['out']"
   ]
  },
  {
   "cell_type": "code",
   "execution_count": 6,
   "metadata": {
    "collapsed": false
   },
   "outputs": [],
   "source": [
    "# tf Graph input\n",
    "graph = tf.Graph()\n",
    "with graph.as_default():\n",
    "    Xtr = tf.placeholder(tf.float32, [None, n_steps, n_input])\n",
    "    Ytr = tf.placeholder(tf.float32, [None, n_label])\n",
    "    \n",
    "    weights = {\n",
    "        'out': tf.Variable(tf.random_normal([n_h1, n_label]))\n",
    "    }\n",
    "    \n",
    "    biases = {\n",
    "        'out': tf.Variable(tf.zeros([n_label]))\n",
    "    }\n",
    "    \n",
    "    pred = RNN(Xtr, weights, biases)\n",
    "    \n",
    "    cost = tf.reduce_mean(tf.nn.softmax_cross_entropy_with_logits(logits=pred, labels=Ytr))\n",
    "    optimizer = tf.train.AdamOptimizer(learning_rate=learning_rate).minimize(cost)\n",
    "    \n",
    "    # Evaluate model\n",
    "    correct_pred = tf.equal(tf.argmax(pred,1), tf.argmax(Ytr,1))\n",
    "    accuracy = tf.reduce_mean(tf.cast(correct_pred, tf.float32))"
   ]
  },
  {
   "cell_type": "code",
   "execution_count": 9,
   "metadata": {
    "collapsed": false
   },
   "outputs": [
    {
     "name": "stdout",
     "output_type": "stream",
     "text": [
      "Iter: 3200,  Minibatch Loss: 1.3216, Training Accuracy: 0.4766\n",
      "Iter: 6400,  Minibatch Loss: 0.9152, Training Accuracy: 0.7500\n",
      "Iter: 9600,  Minibatch Loss: 0.4886, Training Accuracy: 0.8516\n",
      "Iter: 12800,  Minibatch Loss: 0.5562, Training Accuracy: 0.8125\n",
      "Iter: 16000,  Minibatch Loss: 0.2787, Training Accuracy: 0.9219\n",
      "Iter: 19200,  Minibatch Loss: 0.2754, Training Accuracy: 0.9141\n",
      "Iter: 22400,  Minibatch Loss: 0.2475, Training Accuracy: 0.9062\n",
      "Iter: 25600,  Minibatch Loss: 0.4024, Training Accuracy: 0.8672\n",
      "Iter: 28800,  Minibatch Loss: 0.3858, Training Accuracy: 0.8906\n",
      "Iter: 32000,  Minibatch Loss: 0.2113, Training Accuracy: 0.9531\n",
      "Iter: 35200,  Minibatch Loss: 0.2019, Training Accuracy: 0.9453\n",
      "Iter: 38400,  Minibatch Loss: 0.1310, Training Accuracy: 0.9375\n",
      "Iter: 41600,  Minibatch Loss: 0.0884, Training Accuracy: 0.9844\n",
      "Iter: 44800,  Minibatch Loss: 0.1334, Training Accuracy: 0.9688\n",
      "Iter: 48000,  Minibatch Loss: 0.1535, Training Accuracy: 0.9375\n",
      "Iter: 51200,  Minibatch Loss: 0.2122, Training Accuracy: 0.9219\n",
      "Iter: 54400,  Minibatch Loss: 0.1323, Training Accuracy: 0.9609\n",
      "Iter: 57600,  Minibatch Loss: 0.1557, Training Accuracy: 0.9531\n",
      "Iter: 60800,  Minibatch Loss: 0.0625, Training Accuracy: 0.9844\n",
      "Iter: 64000,  Minibatch Loss: 0.1962, Training Accuracy: 0.9609\n",
      "Iter: 67200,  Minibatch Loss: 0.1137, Training Accuracy: 0.9688\n",
      "Iter: 70400,  Minibatch Loss: 0.1802, Training Accuracy: 0.9297\n",
      "Iter: 73600,  Minibatch Loss: 0.1272, Training Accuracy: 0.9531\n",
      "Iter: 76800,  Minibatch Loss: 0.0836, Training Accuracy: 0.9531\n",
      "Iter: 80000,  Minibatch Loss: 0.2354, Training Accuracy: 0.9297\n",
      "Iter: 83200,  Minibatch Loss: 0.0560, Training Accuracy: 0.9844\n",
      "Iter: 86400,  Minibatch Loss: 0.1871, Training Accuracy: 0.9688\n",
      "Iter: 89600,  Minibatch Loss: 0.1051, Training Accuracy: 0.9766\n",
      "Iter: 92800,  Minibatch Loss: 0.1842, Training Accuracy: 0.9531\n",
      "Iter: 96000,  Minibatch Loss: 0.1482, Training Accuracy: 0.9688\n",
      "Iter: 99200,  Minibatch Loss: 0.1866, Training Accuracy: 0.9531\n",
      "Optimization Finished!\n",
      "Test Accuracy:  0.984375\n"
     ]
    }
   ],
   "source": [
    "with tf.Session(graph=graph) as sess:\n",
    "    tf.global_variables_initializer().run()\n",
    "    step  = 1\n",
    "    while step * batch_size < training_iters:\n",
    "        batch_x, batch_y = mnist.train.next_batch(batch_size)\n",
    "        batch_x = batch_x.reshape((batch_size, n_steps, n_input))\n",
    "        _, loss_, accuracy_ = sess.run([optimizer, cost, accuracy], feed_dict={\n",
    "            Xtr: batch_x, Ytr: batch_y})\n",
    "        if step % display_step == 0:\n",
    "            print (\"Iter: %d,  Minibatch Loss: %.4f, Training Accuracy: %.4f\"% \n",
    "                   (step*batch_size, loss_, accuracy_) )\n",
    "        step += 1\n",
    "    print (\"Optimization Finished!\")\n",
    "    \n",
    "    test_len = 128\n",
    "    test_accuracy = sess.run(accuracy, feed_dict={\n",
    "        Xtr: mnist.test.images[:test_len].reshape((-1, n_steps, n_input)),\n",
    "        Ytr: mnist.test.labels[:test_len] })\n",
    "    print (\"Test Accuracy: \", test_accuracy)"
   ]
  },
  {
   "cell_type": "code",
   "execution_count": null,
   "metadata": {
    "collapsed": true
   },
   "outputs": [],
   "source": []
  }
 ],
 "metadata": {
  "kernelspec": {
   "display_name": "Python 3",
   "language": "python",
   "name": "python3"
  },
  "language_info": {
   "codemirror_mode": {
    "name": "ipython",
    "version": 3
   },
   "file_extension": ".py",
   "mimetype": "text/x-python",
   "name": "python",
   "nbconvert_exporter": "python",
   "pygments_lexer": "ipython3",
   "version": "3.5.3"
  }
 },
 "nbformat": 4,
 "nbformat_minor": 2
}
