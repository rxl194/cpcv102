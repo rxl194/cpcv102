{
 "cells": [
  {
   "cell_type": "code",
   "execution_count": 8,
   "metadata": {
    "collapsed": true
   },
   "outputs": [],
   "source": [
    "import numpy as np\n",
    "import tensorflow as tf\n",
    "import input_data"
   ]
  },
  {
   "cell_type": "code",
   "execution_count": 9,
   "metadata": {
    "collapsed": false
   },
   "outputs": [
    {
     "name": "stdout",
     "output_type": "stream",
     "text": [
      "Extracting tf_mnist\\train-images-idx3-ubyte.gz\n",
      "Extracting tf_mnist\\train-labels-idx1-ubyte.gz\n",
      "Extracting tf_mnist\\t10k-images-idx3-ubyte.gz\n",
      "Extracting tf_mnist\\t10k-labels-idx1-ubyte.gz\n"
     ]
    }
   ],
   "source": [
    "mnist = input_data.read_data_sets(\"tf_mnist\", one_hot=True)"
   ]
  },
  {
   "cell_type": "code",
   "execution_count": 10,
   "metadata": {
    "collapsed": true
   },
   "outputs": [],
   "source": [
    "learing_rate = 1e-2\n",
    "num_steps = 25\n",
    "batch_size = 100\n",
    "display_step = 1"
   ]
  },
  {
   "cell_type": "code",
   "execution_count": 11,
   "metadata": {
    "collapsed": false
   },
   "outputs": [],
   "source": [
    "graph = tf.Graph()\n",
    "with graph.as_default():\n",
    "    Xtr = tf.placeholder(tf.float32, [None, 784])\n",
    "    Ytr = tf.placeholder(tf.float32, [None,10])\n",
    "    \n",
    "    w = tf.Variable(tf.random_normal([784, 10], mean=0.,\n",
    "            stddev=0.01, dtype=tf.float32))\n",
    "    b = tf.Variable(tf.zeros([10]))\n",
    "    \n",
    "    Ypred = ( tf.matmul(Xtr, w) + b )\n",
    "    \n",
    "    cost = tf.reduce_mean( tf.nn.softmax_cross_entropy_with_logits(\n",
    "        labels = Ytr, logits = Ypred ))\n",
    "    \n",
    "    train = tf.train.GradientDescentOptimizer(learing_rate).minimize(cost)\n",
    "    \n",
    "    correct_predictions = tf.equal( tf.argmax(tf.nn.softmax(Ypred), 1), \n",
    "                                    tf.argmax(Ytr, 1) )\n",
    "    accuracy = tf.reduce_mean( tf.cast(correct_predictions, tf.float32) )"
   ]
  },
  {
   "cell_type": "code",
   "execution_count": 12,
   "metadata": {
    "collapsed": false
   },
   "outputs": [
    {
     "name": "stdout",
     "output_type": "stream",
     "text": [
      "Step: 0001, cost: 1.182830739\n",
      "Step: 0002, cost: 0.664748180\n",
      "Step: 0003, cost: 0.552661953\n",
      "Step: 0004, cost: 0.498640575\n",
      "Step: 0005, cost: 0.465508636\n",
      "Step: 0006, cost: 0.442572676\n",
      "Step: 0007, cost: 0.425611058\n",
      "Step: 0008, cost: 0.412192468\n",
      "Step: 0009, cost: 0.401410940\n",
      "Step: 0010, cost: 0.392460465\n",
      "Step: 0011, cost: 0.384868476\n",
      "Step: 0012, cost: 0.378275052\n",
      "Step: 0013, cost: 0.372360929\n",
      "Step: 0014, cost: 0.367393612\n",
      "Step: 0015, cost: 0.362811811\n",
      "Step: 0016, cost: 0.358632981\n",
      "Step: 0017, cost: 0.354938457\n",
      "Step: 0018, cost: 0.351550977\n",
      "Step: 0019, cost: 0.348413126\n",
      "Step: 0020, cost: 0.345531238\n",
      "Step: 0021, cost: 0.342836332\n",
      "Step: 0022, cost: 0.340340030\n",
      "Step: 0023, cost: 0.337988842\n",
      "Step: 0024, cost: 0.335822906\n",
      "Step: 0025, cost: 0.333741426\n",
      "Optimization Finished\n",
      "Test Accuracy:  0.889667\n"
     ]
    }
   ],
   "source": [
    "with tf.Session(graph=graph) as sess:\n",
    "    tf.global_variables_initializer().run()\n",
    "    for step in range(num_steps):\n",
    "            avg_cost = 0\n",
    "            total_batch = int(mnist.train.num_examples/batch_size)\n",
    "            for i in range(total_batch):\n",
    "                batch_x, batch_y = mnist.train.next_batch(batch_size)\n",
    "                _, c_ = sess.run([train, cost], feed_dict={\n",
    "                    Xtr: batch_x, Ytr: batch_y })\n",
    "                avg_cost += float(c_) / total_batch\n",
    "            if (step+1) % display_step == 0:\n",
    "                print (\"Step: %04d, cost: %.9f\"% ((step+1), avg_cost))\n",
    "    \n",
    "    print (\"Optimization Finished\")\n",
    "    \n",
    "    test_accuracy = accuracy.eval(feed_dict={\n",
    "        Xtr: mnist.test.images[:3000], Ytr: mnist.test.labels[:3000]})\n",
    "    print (\"Test Accuracy: \", test_accuracy)"
   ]
  },
  {
   "cell_type": "code",
   "execution_count": null,
   "metadata": {
    "collapsed": true
   },
   "outputs": [],
   "source": []
  }
 ],
 "metadata": {
  "kernelspec": {
   "display_name": "Python 3",
   "language": "python",
   "name": "python3"
  },
  "language_info": {
   "codemirror_mode": {
    "name": "ipython",
    "version": 3
   },
   "file_extension": ".py",
   "mimetype": "text/x-python",
   "name": "python",
   "nbconvert_exporter": "python",
   "pygments_lexer": "ipython3",
   "version": "3.5.3"
  }
 },
 "nbformat": 4,
 "nbformat_minor": 2
}
