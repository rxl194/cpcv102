{
 "cells": [
  {
   "cell_type": "code",
   "execution_count": 1,
   "metadata": {
    "collapsed": true
   },
   "outputs": [],
   "source": [
    "import numpy as np\n",
    "import tensorflow as tf\n",
    "import datetime"
   ]
  },
  {
   "cell_type": "code",
   "execution_count": 2,
   "metadata": {
    "collapsed": true
   },
   "outputs": [],
   "source": [
    "# Processing Units logs\n",
    "log_device_placement = True\n",
    "\n",
    "n = 10"
   ]
  },
  {
   "cell_type": "code",
   "execution_count": 3,
   "metadata": {
    "collapsed": false
   },
   "outputs": [],
   "source": [
    "def matpow(M, n):\n",
    "    shape = M.get_shape()[0]\n",
    "    Prod = tf.diag(tf.ones(shape, dtype=tf.float64))\n",
    "    for i in range(1, n+1):\n",
    "        Prod = tf.matmul(M, Prod)\n",
    "    return Prod"
   ]
  },
  {
   "cell_type": "code",
   "execution_count": 4,
   "metadata": {
    "collapsed": false
   },
   "outputs": [],
   "source": [
    "A = np.random.rand(10000,10000).astype('float64')\n",
    "B = np.random.rand(10000,10000).astype('float64')"
   ]
  },
  {
   "cell_type": "code",
   "execution_count": null,
   "metadata": {
    "collapsed": true
   },
   "outputs": [],
   "source": [
    "c1 = []\n",
    "c2 = []"
   ]
  },
  {
   "cell_type": "code",
   "execution_count": null,
   "metadata": {
    "collapsed": false
   },
   "outputs": [],
   "source": [
    "with tf.device('/cpu:0'):\n",
    "    a = tf.constant(A, dtype=tf.float64)\n",
    "    b = tf.constant(B, dtype=tf.float64)\n",
    "    c1.append(matpow(a,n))\n",
    "    c1.append(matpow(b,n))\n",
    "    \n",
    "with tf.device('/cpu:0'):\n",
    "    sum = tf.add_n(c1)\n",
    "    \n",
    "t1_1 = datetime.datetime.now()\n",
    "\n",
    "config = tf.ConfigProto(log_device_placement=log_device_placement)\n",
    "with tf.Session() as sess:\n",
    "    sess.run(sum)\n",
    "t2_1 = datetime.datetime.now()"
   ]
  },
  {
   "cell_type": "code",
   "execution_count": null,
   "metadata": {
    "collapsed": true
   },
   "outputs": [],
   "source": []
  },
  {
   "cell_type": "code",
   "execution_count": null,
   "metadata": {
    "collapsed": true
   },
   "outputs": [],
   "source": []
  }
 ],
 "metadata": {
  "kernelspec": {
   "display_name": "Python 3",
   "language": "python",
   "name": "python3"
  },
  "language_info": {
   "codemirror_mode": {
    "name": "ipython",
    "version": 3
   },
   "file_extension": ".py",
   "mimetype": "text/x-python",
   "name": "python",
   "nbconvert_exporter": "python",
   "pygments_lexer": "ipython3",
   "version": "3.5.3"
  }
 },
 "nbformat": 4,
 "nbformat_minor": 2
}
