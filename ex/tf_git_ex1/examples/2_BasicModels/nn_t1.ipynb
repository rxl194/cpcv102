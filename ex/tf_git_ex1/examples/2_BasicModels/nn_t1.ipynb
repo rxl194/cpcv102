{
 "cells": [
  {
   "cell_type": "code",
   "execution_count": 1,
   "metadata": {
    "collapsed": true
   },
   "outputs": [],
   "source": [
    "import numpy as np\n",
    "import tensorflow as tf\n",
    "import input_data"
   ]
  },
  {
   "cell_type": "code",
   "execution_count": 3,
   "metadata": {
    "collapsed": false
   },
   "outputs": [
    {
     "name": "stdout",
     "output_type": "stream",
     "text": [
      "Extracting tf_mnist\\train-images-idx3-ubyte.gz\n",
      "Extracting tf_mnist\\train-labels-idx1-ubyte.gz\n",
      "Extracting tf_mnist\\t10k-images-idx3-ubyte.gz\n",
      "Extracting tf_mnist\\t10k-labels-idx1-ubyte.gz\n"
     ]
    }
   ],
   "source": [
    "mnist = input_data.read_data_sets(\"tf_mnist\", one_hot=True)"
   ]
  },
  {
   "cell_type": "code",
   "execution_count": 4,
   "metadata": {
    "collapsed": true
   },
   "outputs": [],
   "source": [
    "Xtr, Ytr = mnist.train.next_batch(5000)\n",
    "Xte, Yte = mnist.train.next_batch(200)\n",
    "\n",
    "xtr = tf.placeholder(tf.float32, [None, 784])\n",
    "ytr = tf.placeholder(tf.float32, [784])"
   ]
  },
  {
   "cell_type": "code",
   "execution_count": 6,
   "metadata": {
    "collapsed": true
   },
   "outputs": [],
   "source": [
    "distance = tf.reduce_mean ( tf.abs(xtr-ytr), reduction_indices=1 )\n",
    "pred = tf.argmin(distance, 0)"
   ]
  },
  {
   "cell_type": "code",
   "execution_count": 14,
   "metadata": {
    "collapsed": false
   },
   "outputs": [
    {
     "name": "stdout",
     "output_type": "stream",
     "text": [
      "Test: 20, accuracy 1.00\n",
      "Test: 40, accuracy 0.95\n",
      "Test: 60, accuracy 0.95\n",
      "Test: 80, accuracy 0.95\n",
      "Test: 100, accuracy 0.96\n",
      "Test: 120, accuracy 0.94\n",
      "Test: 140, accuracy 0.94\n",
      "Test: 160, accuracy 0.94\n",
      "Test: 180, accuracy 0.94\n",
      "Done!\n",
      "Accuracy:  0.925\n"
     ]
    }
   ],
   "source": [
    "accuracy = 0.0\n",
    "with tf.Session() as sess:\n",
    "    tf.global_variables_initializer().run()\n",
    "    for i in range(len(Xte)):\n",
    "        nn_index = sess.run(pred, feed_dict={\n",
    "            xtr: Xtr, ytr: Xte[i] })\n",
    "#        print (\"Test: \", i, \", Prediction: \", np.argmax(Ytr[nn_index]),\n",
    "#               \", True Class: \", np.argmax(Yte[i]))\n",
    "        if np.argmax(Ytr[nn_index]) == np.argmax(Yte[i]):\n",
    "            accuracy += 1.0\n",
    "        if i > 0 and i % 20 == 0:\n",
    "            print (\"Test: %d, accuracy %.2f\"% (i, accuracy/i))\n",
    "    accuracy /= len(Xte)\n",
    "    print (\"Done!\")\n",
    "    print (\"Accuracy: \", accuracy)"
   ]
  },
  {
   "cell_type": "code",
   "execution_count": null,
   "metadata": {
    "collapsed": true
   },
   "outputs": [],
   "source": []
  }
 ],
 "metadata": {
  "kernelspec": {
   "display_name": "Python 3",
   "language": "python",
   "name": "python3"
  },
  "language_info": {
   "codemirror_mode": {
    "name": "ipython",
    "version": 3
   },
   "file_extension": ".py",
   "mimetype": "text/x-python",
   "name": "python",
   "nbconvert_exporter": "python",
   "pygments_lexer": "ipython3",
   "version": "3.5.3"
  }
 },
 "nbformat": 4,
 "nbformat_minor": 2
}
