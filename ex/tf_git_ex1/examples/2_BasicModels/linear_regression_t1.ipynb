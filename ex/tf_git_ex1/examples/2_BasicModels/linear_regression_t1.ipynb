{
 "cells": [
  {
   "cell_type": "code",
   "execution_count": 1,
   "metadata": {
    "collapsed": true
   },
   "outputs": [],
   "source": [
    "import tensorflow as tf\n",
    "import numpy as np\n",
    "import matplotlib.pyplot as plt\n",
    "rng = np.random"
   ]
  },
  {
   "cell_type": "code",
   "execution_count": 2,
   "metadata": {
    "collapsed": true
   },
   "outputs": [],
   "source": [
    "learning_rate = 1e-2\n",
    "training_epochs = 1000\n",
    "display_step = 100"
   ]
  },
  {
   "cell_type": "code",
   "execution_count": 3,
   "metadata": {
    "collapsed": false
   },
   "outputs": [],
   "source": [
    "Xtr = np.asarray([3.3,4.4,5.5,6.71,6.93,4.168,9.779,6.182,7.59,2.167,\n",
    "                         7.042,10.791,5.313,7.997,5.654,9.27,3.1])\n",
    "Ytr = np.asarray([1.7,2.76,2.09,3.19,1.694,1.573,3.366,2.596,2.53,1.221,\n",
    "                         2.827,3.465,1.65,2.904,2.42,2.94,1.3])\n",
    "n_samples = Xtr.shape[0]"
   ]
  },
  {
   "cell_type": "code",
   "execution_count": 4,
   "metadata": {
    "collapsed": false
   },
   "outputs": [],
   "source": [
    "# tf Graph Input\n",
    "X = tf.placeholder(tf.float32, shape=[n_samples])\n",
    "Y = tf.placeholder(tf.float32, shape=[n_samples])\n",
    "\n",
    "# Set model weights\n",
    "W = tf.Variable( tf.random_normal([]), name=\"weight\")\n",
    "b = tf.Variable( tf.random_normal([]), name=\"bias\")"
   ]
  },
  {
   "cell_type": "code",
   "execution_count": 5,
   "metadata": {
    "collapsed": false
   },
   "outputs": [],
   "source": [
    "# Construct a linear model\n",
    "pred = (tf.multiply(X, W) + b)"
   ]
  },
  {
   "cell_type": "code",
   "execution_count": 6,
   "metadata": {
    "collapsed": false
   },
   "outputs": [],
   "source": [
    "# Mean squared error\n",
    "cost = tf.reduce_sum(tf.pow(pred-Y, 2))/(2*n_samples)\n",
    "# Gradient descent\n",
    "optimizer = tf.train.GradientDescentOptimizer(learning_rate).minimize(cost)"
   ]
  },
  {
   "cell_type": "code",
   "execution_count": 11,
   "metadata": {
    "collapsed": false
   },
   "outputs": [
    {
     "name": "stdout",
     "output_type": "stream",
     "text": [
      "Epoch: 0100 cost= 0.096901596 W= 0.331758 b= 0.230763\n",
      "Epoch: 0200 cost= 0.092594258 W= 0.322594 b= 0.29573\n",
      "Epoch: 0300 cost= 0.089215852 W= 0.314479 b= 0.353267\n",
      "Epoch: 0400 cost= 0.086566031 W= 0.307291 b= 0.404222\n",
      "Epoch: 0500 cost= 0.084487684 W= 0.300926 b= 0.449351\n",
      "Epoch: 0600 cost= 0.082857549 W= 0.295288 b= 0.489317\n",
      "Epoch: 0700 cost= 0.081578948 W= 0.290296 b= 0.524713\n",
      "Epoch: 0800 cost= 0.080576107 W= 0.285874 b= 0.556061\n",
      "Epoch: 0900 cost= 0.079789534 W= 0.281958 b= 0.583823\n",
      "Epoch: 1000 cost= 0.079172581 W= 0.27849 b= 0.60841\n",
      "Optimization Finished!\n",
      "Training cost= 0.0791726 W= 0.27849 b= 0.60841 \n",
      "\n"
     ]
    },
    {
     "data": {
      "image/png": "[encoded data removed]",
      "text/plain": [
       "<matplotlib.figure.Figure at 0x1dd0b1e7278>"
      ]
     },
     "metadata": {},
     "output_type": "display_data"
    }
   ],
   "source": [
    "# Launch the graph\n",
    "with tf.Session() as sess:\n",
    "    sess.run(tf.global_variables_initializer())\n",
    "\n",
    "    # Fit all training data\n",
    "    for epoch in range(training_epochs):\n",
    "        sess.run(optimizer, feed_dict={X: Xtr, Y: Ytr})\n",
    "\n",
    "        #Display logs per epoch step\n",
    "        if (epoch+1) % display_step == 0:\n",
    "            c_, w_, b_ = sess.run([cost, W, b], feed_dict={X: Xtr, Y:Ytr})\n",
    "            print (\"Epoch:\", '%04d' % (epoch+1), \"cost=\", \"{:.9f}\".format(c_), \\\n",
    "                \"W=\", w_, \"b=\", b_)\n",
    "\n",
    "    print (\"Optimization Finished!\")\n",
    "    c_, w_, b_, pred_ = sess.run([cost, W, b, pred], feed_dict={X: Xtr, Y:Ytr})\n",
    "    print (\"Training cost=\", c_, \"W=\", w_, \"b=\", b_, '\\n')\n",
    "\n",
    "    #Graphic display\n",
    "    plt.plot(Xtr, Ytr, 'ro', label='Original data')\n",
    "    plt.plot(Xtr, pred_, label='Fitted line')\n",
    "    plt.legend()\n",
    "    plt.show()                                            "
   ]
  },
  {
   "cell_type": "code",
   "execution_count": null,
   "metadata": {
    "collapsed": true
   },
   "outputs": [],
   "source": []
  }
 ],
 "metadata": {
  "kernelspec": {
   "display_name": "Python 3",
   "language": "python",
   "name": "python3"
  },
  "language_info": {
   "codemirror_mode": {
    "name": "ipython",
    "version": 3
   },
   "file_extension": ".py",
   "mimetype": "text/x-python",
   "name": "python",
   "nbconvert_exporter": "python",
   "pygments_lexer": "ipython3",
   "version": "3.5.3"
  }
 },
 "nbformat": 4,
 "nbformat_minor": 2
}
