{
 "cells": [
  {
   "cell_type": "code",
   "execution_count": 1,
   "metadata": {},
   "outputs": [],
   "source": [
    "# %load train.py\n",
    "from __future__ import absolute_import\n",
    "from __future__ import division\n",
    "from __future__ import print_function\n",
    "\n",
    "import os\n",
    "import json\n",
    "import numpy as np\n",
    "\n",
    "import tensorflow as tf\n",
    "\n",
    "from qa_model import Encoder, QASystem, Decoder\n",
    "from os.path import join as pjoin\n",
    "\n",
    "import logging\n",
    "\n",
    "logging.basicConfig(level=logging.INFO)\n",
    "\n",
    "tf.app.flags.DEFINE_float(\"learning_rate\", 0.01, \"Learning rate.\")\n",
    "tf.app.flags.DEFINE_float(\"max_gradient_norm\", 10.0, \"Clip gradients to this norm.\")\n",
    "tf.app.flags.DEFINE_float(\"dropout\", 0.15, \"Fraction of units randomly dropped on non-recurrent connections.\")\n",
    "tf.app.flags.DEFINE_integer(\"batch_size\", 10, \"Batch size to use during training.\")\n",
    "tf.app.flags.DEFINE_integer(\"epochs\", 10, \"Number of epochs to train.\")\n",
    "tf.app.flags.DEFINE_integer(\"state_size\", 200, \"Size of each model layer.\")\n",
    "tf.app.flags.DEFINE_integer(\"output_size\", 750, \"The output size of your model.\")\n",
    "tf.app.flags.DEFINE_integer(\"embedding_size\", 100, \"Size of the pretrained vocabulary.\")\n",
    "tf.app.flags.DEFINE_string(\"data_dir\", \"../data/squad\", \"SQuAD directory (default ../data/squad)\")\n",
    "tf.app.flags.DEFINE_string(\"train_dir\", \"train\", \"Training directory to save the model parameters (default: ./train).\")\n",
    "tf.app.flags.DEFINE_string(\"load_train_dir\", \"\", \"Training directory to load model parameters from to resume training (default: {train_dir}).\")\n",
    "tf.app.flags.DEFINE_string(\"log_dir\", \"log\", \"Path to store log and flag files (default: ./log)\")\n",
    "tf.app.flags.DEFINE_string(\"optimizer\", \"adam\", \"adam / sgd\")\n",
    "tf.app.flags.DEFINE_integer(\"print_every\", 1, \"How many iterations to do per print.\")\n",
    "tf.app.flags.DEFINE_integer(\"keep\", 0, \"How many checkpoints to keep, 0 indicates keep all.\")\n",
    "tf.app.flags.DEFINE_string(\"vocab_path\", \"../data/squad/vocab.dat\", \"Path to vocab file (default: ../data/squad/vocab.dat)\")\n",
    "tf.app.flags.DEFINE_string(\"embed_path\", \"\", \"Path to the trimmed GLoVe embedding (default: ./data/squad/glove.trimmed.{embedding_size}.npz)\")\n",
    "tf.app.flags.DEFINE_string(\"train_ids_context_path\", \"../data/squad/train.ids.context\", \n",
    "                        \"Path to train.ids.context (default: ../data/squad/train.ids.context)\")\n",
    "tf.app.flags.DEFINE_string(\"train_ids_question_path\", \"../data/squad/train.ids.question\", \n",
    "                        \"Path to train.ids.question (default: ../data/squad/train.ids.question)\")\n",
    "tf.app.flags.DEFINE_integer(\"context_max_length\", 400, \"context max length\")\n",
    "tf.app.flags.DEFINE_integer(\"question_max_length\", 30, \"question max length\")\n",
    "\n",
    "FLAGS = tf.app.flags.FLAGS\n",
    "\n",
    "\n",
    "def initialize_model(session, model, train_dir):\n",
    "    ckpt = tf.train.get_checkpoint_state(train_dir)\n",
    "    v2_path = ckpt.model_checkpoint_path + \".index\" if ckpt else \"\"\n",
    "    if ckpt and (tf.gfile.Exists(ckpt.model_checkpoint_path) or tf.gfile.Exists(v2_path)):\n",
    "        logging.info(\"Reading model parameters from %s\" % ckpt.model_checkpoint_path)\n",
    "        model.saver.restore(session, ckpt.model_checkpoint_path)\n",
    "    else:\n",
    "        logging.info(\"Created model with fresh parameters.\")\n",
    "        session.run(tf.global_variables_initializer())\n",
    "        logging.info('Num params: %d' % sum(v.get_shape().num_elements() for v in tf.trainable_variables()))\n",
    "    return model\n",
    "\n",
    "\n",
    "def initialize_vocab(vocab_path):\n",
    "    if tf.gfile.Exists(vocab_path):\n",
    "        rev_vocab = []\n",
    "        with tf.gfile.GFile(vocab_path, mode=\"rb\") as f:\n",
    "            rev_vocab.extend(f.readlines())\n",
    "        rev_vocab = [line.strip('\\n') for line in rev_vocab]\n",
    "        vocab = dict([(x, y) for (y, x) in enumerate(rev_vocab)])\n",
    "        return vocab, rev_vocab\n",
    "    else:\n",
    "        raise ValueError(\"Vocabulary file %s not found.\", vocab_path)\n",
    "\n",
    "\n",
    "def get_normalized_train_dir(train_dir):\n",
    "    \"\"\"\n",
    "    Adds symlink to {train_dir} from /tmp/cs224n-squad-train to canonicalize the\n",
    "    file paths saved in the checkpoint. This allows the model to be reloaded even\n",
    "    if the location of the checkpoint files has moved, allowing usage with CodaLab.\n",
    "    This must be done on both train.py and qa_answer.py in order to work.\n",
    "    \"\"\"\n",
    "    global_train_dir = '/tmp/cs224n-squad-train'\n",
    "    if os.path.exists(global_train_dir):\n",
    "        os.unlink(global_train_dir)\n",
    "    if not os.path.exists(train_dir):\n",
    "        os.makedirs(train_dir)\n",
    "    os.symlink(os.path.abspath(train_dir), global_train_dir)\n",
    "    return global_train_dir"
   ]
  },
  {
   "cell_type": "code",
   "execution_count": 2,
   "metadata": {
    "collapsed": true
   },
   "outputs": [],
   "source": [
    "def main(_):\n",
    "\n",
    "    # Do what you need to load datasets from FLAGS.data_dir\n",
    "    dataset = None\n",
    "\n",
    "    embed_path = FLAGS.embed_path or pjoin(\"data\", \"squad\", \"glove.trimmed.{}.npz\".format(FLAGS.embedding_size))\n",
    "    vocab_path = FLAGS.vocab_path or pjoin(FLAGS.data_dir, \"vocab.dat\")\n",
    "\n",
    "    glove_npz = np.load(embed_path)\n",
    "    glove = glove_npz['glove']\n",
    "    vocab, rev_vocab = initialize_vocab(vocab_path)\n",
    "\n",
    "    encoder = Encoder(size=FLAGS.state_size, vocab_dim=FLAGS.embedding_size)\n",
    "    decoder = Decoder(output_size=FLAGS.output_size)\n",
    "\n",
    "    qa = QASystem(encoder, decoder)\n",
    "\n",
    "    if not os.path.exists(FLAGS.log_dir):\n",
    "        os.makedirs(FLAGS.log_dir)\n",
    "    file_handler = logging.FileHandler(pjoin(FLAGS.log_dir, \"log.txt\"))\n",
    "    logging.getLogger().addHandler(file_handler)\n",
    "\n",
    "    print(vars(FLAGS))\n",
    "    with open(os.path.join(FLAGS.log_dir, \"flags.json\"), 'w') as fout:\n",
    "        json.dump(FLAGS.__flags, fout)\n",
    "\n",
    "    with tf.Session() as sess:\n",
    "        load_train_dir = get_normalized_train_dir(FLAGS.load_train_dir or FLAGS.train_dir)\n",
    "        initialize_model(sess, qa, load_train_dir)\n",
    "\n",
    "        save_train_dir = get_normalized_train_dir(FLAGS.train_dir)\n",
    "        qa.train(sess, dataset, save_train_dir)\n",
    "\n",
    "        qa.evaluate_answer(sess, dataset, vocab, FLAGS.evaluate, log=True)"
   ]
  },
  {
   "cell_type": "code",
   "execution_count": 3,
   "metadata": {
    "collapsed": true
   },
   "outputs": [],
   "source": [
    "embed_path = FLAGS.embed_path or pjoin(\"../data\", \"squad\", \"glove.trimmed.{}.npz\".format(FLAGS.embedding_size))"
   ]
  },
  {
   "cell_type": "code",
   "execution_count": 4,
   "metadata": {
    "collapsed": true
   },
   "outputs": [],
   "source": [
    "vocab_path = FLAGS.vocab_path or pjoin(FLAGS.data_dir, \"vocab.dat\")"
   ]
  },
  {
   "cell_type": "code",
   "execution_count": 5,
   "metadata": {
    "collapsed": true
   },
   "outputs": [],
   "source": [
    "glove_npz = np.load(embed_path)"
   ]
  },
  {
   "cell_type": "code",
   "execution_count": 6,
   "metadata": {
    "collapsed": true
   },
   "outputs": [],
   "source": [
    "glove = glove_npz['glove']"
   ]
  },
  {
   "cell_type": "code",
   "execution_count": 7,
   "metadata": {
    "collapsed": true
   },
   "outputs": [],
   "source": [
    "vocab, rev_vocab = initialize_vocab(vocab_path)"
   ]
  },
  {
   "cell_type": "code",
   "execution_count": 8,
   "metadata": {},
   "outputs": [],
   "source": [
    "train_ids_context_path = FLAGS.train_ids_context_path or pjoin(FLAGS.data_dir, \"train_ids_context_path\")"
   ]
  },
  {
   "cell_type": "code",
   "execution_count": 9,
   "metadata": {},
   "outputs": [],
   "source": [
    "train_ids_question_path = FLAGS.train_ids_question_path or pjoin(FLAGS.data_dir, \"train_ids_question_path\")"
   ]
  },
  {
   "cell_type": "code",
   "execution_count": 10,
   "metadata": {},
   "outputs": [
    {
     "data": {
      "text/plain": [
       "'../data/squad/train.ids.context'"
      ]
     },
     "execution_count": 10,
     "metadata": {},
     "output_type": "execute_result"
    }
   ],
   "source": [
    "train_ids_context_path"
   ]
  },
  {
   "cell_type": "code",
   "execution_count": 11,
   "metadata": {},
   "outputs": [
    {
     "data": {
      "text/plain": [
       "'../data/squad/train.ids.question'"
      ]
     },
     "execution_count": 11,
     "metadata": {},
     "output_type": "execute_result"
    }
   ],
   "source": [
    "train_ids_question_path"
   ]
  },
  {
   "cell_type": "code",
   "execution_count": 12,
   "metadata": {
    "collapsed": true
   },
   "outputs": [],
   "source": [
    "from tensorflow.python.platform import gfile\n",
    "import re\n",
    "\n",
    "def read_ids_data(data_path):\n",
    "    lines = []\n",
    "    if gfile.Exists(data_path):\n",
    "        with gfile.GFile(data_path, mode=\"r\") as f:\n",
    "            for line in f:\n",
    "                words = []\n",
    "                for space_separated_fragment in line.strip().split():\n",
    "                    words.extend(re.split(\" \", space_separated_fragment))\n",
    "                words = [w for w in words if w]\n",
    "                lines.append(words)\n",
    "    return lines\n",
    "                "
   ]
  },
  {
   "cell_type": "code",
   "execution_count": 13,
   "metadata": {},
   "outputs": [],
   "source": [
    "train_ids_context = read_ids_data(train_ids_context_path)"
   ]
  },
  {
   "cell_type": "code",
   "execution_count": 14,
   "metadata": {},
   "outputs": [
    {
     "data": {
      "text/plain": [
       "144"
      ]
     },
     "execution_count": 14,
     "metadata": {},
     "output_type": "execute_result"
    }
   ],
   "source": [
    "len(train_ids_context[1])"
   ]
  },
  {
   "cell_type": "code",
   "execution_count": 15,
   "metadata": {
    "collapsed": true
   },
   "outputs": [],
   "source": [
    "import matplotlib.pyplot as plt"
   ]
  },
  {
   "cell_type": "code",
   "execution_count": 16,
   "metadata": {},
   "outputs": [],
   "source": [
    "len_train_ids_context = [len(l) for l in train_ids_context if len(l) > FLAGS.context_max_length]"
   ]
  },
  {
   "cell_type": "code",
   "execution_count": 17,
   "metadata": {},
   "outputs": [
    {
     "data": {
      "image/png": "[encoded data removed]",
      "text/plain": [
       "<matplotlib.figure.Figure at 0x7f27f949bb90>"
      ]
     },
     "metadata": {},
     "output_type": "display_data"
    }
   ],
   "source": [
    "plt.hist(len_train_ids_context, bins='auto')\n",
    "plt.title(\"Hist train_ids_context\")\n",
    "plt.show()"
   ]
  },
  {
   "cell_type": "code",
   "execution_count": 18,
   "metadata": {},
   "outputs": [
    {
     "data": {
      "text/plain": [
       "766"
      ]
     },
     "execution_count": 18,
     "metadata": {},
     "output_type": "execute_result"
    }
   ],
   "source": [
    "np.max(len_train_ids_context)"
   ]
  },
  {
   "cell_type": "code",
   "execution_count": 19,
   "metadata": {
    "collapsed": true
   },
   "outputs": [],
   "source": [
    "train_ids_question = read_ids_data(train_ids_question_path)"
   ]
  },
  {
   "cell_type": "code",
   "execution_count": 20,
   "metadata": {
    "collapsed": true
   },
   "outputs": [],
   "source": [
    "len_train_ids_question = [len(l) for l in train_ids_question if len(l) > FLAGS.question_max_length]"
   ]
  },
  {
   "cell_type": "code",
   "execution_count": 21,
   "metadata": {},
   "outputs": [
    {
     "data": {
      "image/png": "[encoded data removed]",
      "text/plain": [
       "<matplotlib.figure.Figure at 0x7f27f949b690>"
      ]
     },
     "metadata": {},
     "output_type": "display_data"
    }
   ],
   "source": [
    "plt.hist(len_train_ids_question, bins='auto')\n",
    "plt.title(\"Hist train_ids_question\")\n",
    "plt.show()"
   ]
  },
  {
   "cell_type": "code",
   "execution_count": 22,
   "metadata": {},
   "outputs": [
    {
     "data": {
      "text/plain": [
       "81403"
      ]
     },
     "execution_count": 22,
     "metadata": {},
     "output_type": "execute_result"
    }
   ],
   "source": [
    "len(train_ids_question)"
   ]
  },
  {
   "cell_type": "code",
   "execution_count": 23,
   "metadata": {},
   "outputs": [
    {
     "data": {
      "text/plain": [
       "81403"
      ]
     },
     "execution_count": 23,
     "metadata": {},
     "output_type": "execute_result"
    }
   ],
   "source": [
    "len(train_ids_context)"
   ]
  },
  {
   "cell_type": "code",
   "execution_count": 24,
   "metadata": {
    "collapsed": true
   },
   "outputs": [],
   "source": [
    "def pad_sequences(data, max_length):\n",
    "    \"\"\"Ensures each input-output seqeunce pair in @data is of length\n",
    "    @max_length by padding it with zeros and truncating the rest of the\n",
    "    sequence.\n",
    "    check Assignment3 for more detail.\n",
    "    \"\"\"\n",
    "    zero = '0'\n",
    "    ret = []\n",
    "    for sentence in data:\n",
    "        len_sentence = len(sentence)\n",
    "        mask = []\n",
    "        for i in range(len_sentence):\n",
    "          mask.append(True)\n",
    "        for i in range(len_sentence,max_length):\n",
    "          sentence.append(zero)\n",
    "          mask.append(False)\n",
    "        #ret.append((sentence[:max_length], mask[:max_length]))\n",
    "        ret.append(mask)\n",
    "    return ret    "
   ]
  },
  {
   "cell_type": "code",
   "execution_count": 25,
   "metadata": {},
   "outputs": [
    {
     "data": {
      "text/plain": [
       "17"
      ]
     },
     "execution_count": 25,
     "metadata": {},
     "output_type": "execute_result"
    }
   ],
   "source": [
    "len(train_ids_question[0])"
   ]
  },
  {
   "cell_type": "code",
   "execution_count": 26,
   "metadata": {},
   "outputs": [
    {
     "data": {
      "text/plain": [
       "['311',\n",
       " '9',\n",
       " '1334',\n",
       " '635',\n",
       " '6192',\n",
       " '56',\n",
       " '639',\n",
       " '452',\n",
       " '1086',\n",
       " '34',\n",
       " '8',\n",
       " '300',\n",
       " '9',\n",
       " '34',\n",
       " '10',\n",
       " '12330',\n",
       " '18']"
      ]
     },
     "execution_count": 26,
     "metadata": {},
     "output_type": "execute_result"
    }
   ],
   "source": [
    "train_ids_question[0][0:len(train_ids_question[0])]"
   ]
  },
  {
   "cell_type": "code",
   "execution_count": 27,
   "metadata": {},
   "outputs": [],
   "source": [
    "train_mask_question = pad_sequences(train_ids_question, FLAGS.question_max_length)"
   ]
  },
  {
   "cell_type": "code",
   "execution_count": 28,
   "metadata": {},
   "outputs": [
    {
     "data": {
      "text/plain": [
       "['311',\n",
       " '9',\n",
       " '1334',\n",
       " '635',\n",
       " '6192',\n",
       " '56',\n",
       " '639',\n",
       " '452',\n",
       " '1086',\n",
       " '34',\n",
       " '8',\n",
       " '300',\n",
       " '9',\n",
       " '34',\n",
       " '10',\n",
       " '12330',\n",
       " '18',\n",
       " '0',\n",
       " '0',\n",
       " '0']"
      ]
     },
     "execution_count": 28,
     "metadata": {},
     "output_type": "execute_result"
    }
   ],
   "source": [
    "train_ids_question[0][0:20]"
   ]
  },
  {
   "cell_type": "code",
   "execution_count": 29,
   "metadata": {},
   "outputs": [
    {
     "data": {
      "text/plain": [
       "[True,\n",
       " True,\n",
       " True,\n",
       " True,\n",
       " True,\n",
       " True,\n",
       " True,\n",
       " True,\n",
       " True,\n",
       " True,\n",
       " True,\n",
       " True,\n",
       " True,\n",
       " True,\n",
       " True,\n",
       " True,\n",
       " True,\n",
       " False,\n",
       " False,\n",
       " False]"
      ]
     },
     "execution_count": 29,
     "metadata": {},
     "output_type": "execute_result"
    }
   ],
   "source": [
    "train_mask_question[0][0:20]"
   ]
  },
  {
   "cell_type": "code",
   "execution_count": 30,
   "metadata": {},
   "outputs": [
    {
     "data": {
      "text/plain": [
       "86"
      ]
     },
     "execution_count": 30,
     "metadata": {},
     "output_type": "execute_result"
    }
   ],
   "source": [
    "len(train_ids_context[0])"
   ]
  },
  {
   "cell_type": "code",
   "execution_count": 31,
   "metadata": {},
   "outputs": [
    {
     "data": {
      "text/plain": [
       "['150', '364', '8', '87190', '184', '4']"
      ]
     },
     "execution_count": 31,
     "metadata": {},
     "output_type": "execute_result"
    }
   ],
   "source": [
    "train_ids_context[0][80:90]"
   ]
  },
  {
   "cell_type": "code",
   "execution_count": 32,
   "metadata": {
    "collapsed": true
   },
   "outputs": [],
   "source": [
    "train_mask_context = pad_sequences(train_ids_context, FLAGS.context_max_length)"
   ]
  },
  {
   "cell_type": "code",
   "execution_count": 33,
   "metadata": {},
   "outputs": [
    {
     "data": {
      "text/plain": [
       "400"
      ]
     },
     "execution_count": 33,
     "metadata": {},
     "output_type": "execute_result"
    }
   ],
   "source": [
    "len(train_ids_context[0])"
   ]
  },
  {
   "cell_type": "code",
   "execution_count": 34,
   "metadata": {},
   "outputs": [
    {
     "data": {
      "text/plain": [
       "['150', '364', '8', '87190', '184', '4', '0', '0', '0', '0']"
      ]
     },
     "execution_count": 34,
     "metadata": {},
     "output_type": "execute_result"
    }
   ],
   "source": [
    "train_ids_context[0][80:90]"
   ]
  },
  {
   "cell_type": "code",
   "execution_count": 35,
   "metadata": {},
   "outputs": [
    {
     "data": {
      "text/plain": [
       "[True, True, True, True, True, True, False, False, False, False]"
      ]
     },
     "execution_count": 35,
     "metadata": {},
     "output_type": "execute_result"
    }
   ],
   "source": [
    "train_mask_context[0][80:90]"
   ]
  },
  {
   "cell_type": "code",
   "execution_count": null,
   "metadata": {
    "collapsed": true
   },
   "outputs": [],
   "source": []
  },
  {
   "cell_type": "code",
   "execution_count": null,
   "metadata": {
    "collapsed": true
   },
   "outputs": [],
   "source": []
  },
  {
   "cell_type": "code",
   "execution_count": null,
   "metadata": {
    "collapsed": true
   },
   "outputs": [],
   "source": []
  }
 ],
 "metadata": {
  "kernelspec": {
   "display_name": "Python 2",
   "language": "python",
   "name": "python2"
  },
  "language_info": {
   "codemirror_mode": {
    "name": "ipython",
    "version": 2
   },
   "file_extension": ".py",
   "mimetype": "text/x-python",
   "name": "python",
   "nbconvert_exporter": "python",
   "pygments_lexer": "ipython2",
   "version": "2.7.13"
  }
 },
 "nbformat": 4,
 "nbformat_minor": 2
}
