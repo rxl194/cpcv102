{
 "cells": [
  {
   "cell_type": "code",
   "execution_count": 1,
   "metadata": {
    "collapsed": true
   },
   "outputs": [],
   "source": [
    "import input_data\n",
    "import numpy as np\n",
    "import matplotlib.pyplot as plt"
   ]
  },
  {
   "cell_type": "code",
   "execution_count": 2,
   "metadata": {},
   "outputs": [
    {
     "name": "stdout",
     "output_type": "stream",
     "text": [
      "Successfully downloaded train-images-idx3-ubyte.gz 9912422 bytes.\n",
      "Extracting MNIST_data/train-images-idx3-ubyte.gz\n",
      "Successfully downloaded train-labels-idx1-ubyte.gz 28881 bytes.\n",
      "Extracting MNIST_data/train-labels-idx1-ubyte.gz\n",
      "Successfully downloaded t10k-images-idx3-ubyte.gz 1648877 bytes.\n",
      "Extracting MNIST_data/t10k-images-idx3-ubyte.gz\n",
      "Successfully downloaded t10k-labels-idx1-ubyte.gz 4542 bytes.\n",
      "Extracting MNIST_data/t10k-labels-idx1-ubyte.gz\n"
     ]
    }
   ],
   "source": [
    "mnist_images = input_data.read_data_sets(\"MNIST_data/\", one_hot=False)"
   ]
  },
  {
   "cell_type": "markdown",
   "metadata": {},
   "source": [
    "train.next_batch(10) returns the first 10 images :"
   ]
  },
  {
   "cell_type": "code",
   "execution_count": 8,
   "metadata": {
    "collapsed": true
   },
   "outputs": [],
   "source": [
    "pixels, real_values = mnist_images.train.next_batch(10)"
   ]
  },
  {
   "cell_type": "code",
   "execution_count": 9,
   "metadata": {},
   "outputs": [
    {
     "name": "stdout",
     "output_type": "stream",
     "text": [
      "list of values loaded  [0 3 1 2 7 0 2 9 6 0]\n"
     ]
    }
   ],
   "source": [
    "print \"list of values loaded \", real_values"
   ]
  },
  {
   "cell_type": "code",
   "execution_count": 31,
   "metadata": {},
   "outputs": [
    {
     "name": "stdout",
     "output_type": "stream",
     "text": [
      "element N 7 of the list plotted\n"
     ]
    }
   ],
   "source": [
    "example_to_visulize = 6\n",
    "print \"element N \" + str(example_to_visulize+1) + \" of the list plotted\""
   ]
  },
  {
   "cell_type": "code",
   "execution_count": 32,
   "metadata": {},
   "outputs": [
    {
     "data": {
      "text/plain": [
       "<matplotlib.image.AxesImage at 0x7f54cb4a7910>"
      ]
     },
     "execution_count": 32,
     "metadata": {},
     "output_type": "execute_result"
    }
   ],
   "source": [
    "image = pixels[example_to_visulize]\n",
    "image = np.reshape(image, [28,28])\n",
    "plt.imshow(image)"
   ]
  },
  {
   "cell_type": "code",
   "execution_count": 33,
   "metadata": {},
   "outputs": [
    {
     "data": {
      "image/png": "[encoded data removed]",
      "text/plain": [
       "<matplotlib.figure.Figure at 0x7f54cd557b50>"
      ]
     },
     "metadata": {},
     "output_type": "display_data"
    }
   ],
   "source": [
    "plt.show()"
   ]
  },
  {
   "cell_type": "code",
   "execution_count": 14,
   "metadata": {
    "collapsed": true
   },
   "outputs": [],
   "source": [
    "train_pixels, train_values = mnist_images.train.next_batch(100)"
   ]
  },
  {
   "cell_type": "code",
   "execution_count": 45,
   "metadata": {
    "collapsed": true
   },
   "outputs": [],
   "source": [
    "test_pixels, test_values = mnist_images.train.next_batch(10)"
   ]
  },
  {
   "cell_type": "code",
   "execution_count": 46,
   "metadata": {
    "collapsed": true
   },
   "outputs": [],
   "source": [
    "import tensorflow as tf\n",
    "train_pixels_tensor = tf.placeholder(\"float\", [None,784])\n",
    "test_pixels_tensor = tf.placeholder(\"float\", [784])"
   ]
  },
  {
   "cell_type": "code",
   "execution_count": 54,
   "metadata": {},
   "outputs": [],
   "source": [
    "cost = tf.reduce_sum(tf.abs(train_pixels_tensor-test_pixels_tensor),\\\n",
    "                    reduction_indices=1)\n",
    "pred = tf.argmin(cost, 0)"
   ]
  },
  {
   "cell_type": "code",
   "execution_count": 55,
   "metadata": {
    "collapsed": true
   },
   "outputs": [],
   "source": [
    "model = tf.global_variables_initializer()"
   ]
  },
  {
   "cell_type": "code",
   "execution_count": 60,
   "metadata": {},
   "outputs": [
    {
     "name": "stdout",
     "output_type": "stream",
     "text": [
      "Test N:  0 , Pred:  4 , True:  9\n",
      "Test N:  1 , Pred:  0 , True:  0\n",
      "Test N:  2 , Pred:  1 , True:  1\n",
      "Test N:  3 , Pred:  0 , True:  0\n",
      "Test N:  4 , Pred:  4 , True:  4\n",
      "Test N:  5 , Pred:  2 , True:  2\n",
      "Test N:  6 , Pred:  5 , True:  9\n",
      "Test N:  7 , Pred:  9 , True:  9\n",
      "Test N:  8 , Pred:  4 , True:  4\n",
      "Test N:  9 , Pred:  3 , True:  3\n",
      "Accuracy =  0.8\n"
     ]
    }
   ],
   "source": [
    "accuracy = 0\n",
    "with tf.Session() as sess:\n",
    "    sess.run(model)\n",
    "    for t in range(len(test_pixels)):\n",
    "        nn_index = sess.run(pred, feed_dict={train_pixels_tensor: train_pixels,\\\n",
    "                               test_pixels_tensor: test_pixels[t, :]  })\n",
    "        print \"Test N: \", t, \", Pred: \", train_values[nn_index], \\\n",
    "        \", True: \", test_values[t]\n",
    "        if ( train_values[nn_index] == test_values[t]):\n",
    "            accuracy += 1\n",
    "    accuracy /= float(len(test_pixels))\n",
    "    print \"Accuracy = \", accuracy\n",
    "        \n",
    "        "
   ]
  },
  {
   "cell_type": "code",
   "execution_count": null,
   "metadata": {
    "collapsed": true
   },
   "outputs": [],
   "source": []
  }
 ],
 "metadata": {
  "kernelspec": {
   "display_name": "Python 2",
   "language": "python",
   "name": "python2"
  },
  "language_info": {
   "codemirror_mode": {
    "name": "ipython",
    "version": 2
   },
   "file_extension": ".py",
   "mimetype": "text/x-python",
   "name": "python",
   "nbconvert_exporter": "python",
   "pygments_lexer": "ipython2",
   "version": "2.7.13"
  }
 },
 "nbformat": 4,
 "nbformat_minor": 2
}
