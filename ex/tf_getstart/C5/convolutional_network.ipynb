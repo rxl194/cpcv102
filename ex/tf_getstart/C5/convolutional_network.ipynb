{
 "cells": [
  {
   "cell_type": "code",
   "execution_count": 1,
   "metadata": {
    "collapsed": true
   },
   "outputs": [],
   "source": [
    "import tensorflow as tf\n",
    "import input_data\n",
    "import numpy as np\n",
    "import matplotlib.pyplot as plt"
   ]
  },
  {
   "cell_type": "code",
   "execution_count": 2,
   "metadata": {
    "collapsed": false
   },
   "outputs": [
    {
     "name": "stdout",
     "output_type": "stream",
     "text": [
      "Extracting .\\train-images-idx3-ubyte.gz\n",
      "Extracting .\\train-labels-idx1-ubyte.gz\n",
      "Extracting .\\t10k-images-idx3-ubyte.gz\n",
      "Extracting .\\t10k-labels-idx1-ubyte.gz\n"
     ]
    }
   ],
   "source": [
    "mnist = input_data.read_data_sets(\".\", one_hot=True)"
   ]
  },
  {
   "cell_type": "code",
   "execution_count": 3,
   "metadata": {
    "collapsed": true
   },
   "outputs": [],
   "source": [
    "learning_rate = 1e-3\n",
    "training_iters = 100000\n",
    "batch_size = 128\n",
    "display_step = 10"
   ]
  },
  {
   "cell_type": "code",
   "execution_count": 4,
   "metadata": {
    "collapsed": true
   },
   "outputs": [],
   "source": [
    "n_input = 784\n",
    "n_classes = 10"
   ]
  },
  {
   "cell_type": "code",
   "execution_count": 5,
   "metadata": {
    "collapsed": true
   },
   "outputs": [],
   "source": [
    "dropout = 0.75"
   ]
  },
  {
   "cell_type": "code",
   "execution_count": 6,
   "metadata": {
    "collapsed": true
   },
   "outputs": [],
   "source": [
    "x = tf.placeholder(tf.float32, [None, n_input])\n",
    "y = tf.placeholder(tf.float32, [None, n_classes])"
   ]
  },
  {
   "cell_type": "code",
   "execution_count": 7,
   "metadata": {
    "collapsed": true
   },
   "outputs": [],
   "source": [
    "keep_prob = tf.placeholder(tf.float32)"
   ]
  },
  {
   "cell_type": "code",
   "execution_count": 8,
   "metadata": {
    "collapsed": true
   },
   "outputs": [],
   "source": [
    "def conv2d(img, w, b):\n",
    "    return tf.nn.relu(tf.nn.bias_add(\\\n",
    "        tf.nn.conv2d(img, w, strides=[1,1,1,1], padding='SAME'), b))"
   ]
  },
  {
   "cell_type": "code",
   "execution_count": 9,
   "metadata": {
    "collapsed": false
   },
   "outputs": [],
   "source": [
    "def max_pool(img, k):\n",
    "    return tf.nn.max_pool(img, ksize=[1, k, k, 1],\\\n",
    "        strides=[1, k, k, 1], padding='SAME')"
   ]
  },
  {
   "cell_type": "code",
   "execution_count": 10,
   "metadata": {
    "collapsed": true
   },
   "outputs": [],
   "source": [
    "# 5x5 conv, 1 input, 32 outputs\n",
    "wc1 = tf.Variable(tf.random_normal([5, 5, 1, 32]))\n",
    "bc1 = tf.Variable(tf.random_normal([32]))"
   ]
  },
  {
   "cell_type": "code",
   "execution_count": 11,
   "metadata": {
    "collapsed": true
   },
   "outputs": [],
   "source": [
    "# 5x5 conv, 32 inputs, 64 outputs\n",
    "wc2 = tf.Variable(tf.random_normal([5, 5, 32, 64]))\n",
    "bc2 = tf.Variable(tf.random_normal([64]))"
   ]
  },
  {
   "cell_type": "code",
   "execution_count": 12,
   "metadata": {
    "collapsed": false
   },
   "outputs": [],
   "source": [
    "# FC, 7*7*64 inputs, 1024 outputs\n",
    "wd1 = tf.Variable(tf.random_normal([7*7*64, 1024]))\n",
    "bd1 = tf.Variable(tf.random_normal([1024]))"
   ]
  },
  {
   "cell_type": "code",
   "execution_count": 13,
   "metadata": {
    "collapsed": true
   },
   "outputs": [],
   "source": [
    "# final pred layer, 1024 inputs, 10 predictions\n",
    "wout = tf.Variable(tf.random_normal([1024, n_classes]))\n",
    "bout = tf.Variable(tf.random_normal([n_classes]))"
   ]
  },
  {
   "cell_type": "code",
   "execution_count": 14,
   "metadata": {
    "collapsed": true
   },
   "outputs": [],
   "source": [
    "# Construct model\n",
    "_X = tf.reshape(x, shape=[-1, 28, 28, 1])"
   ]
  },
  {
   "cell_type": "code",
   "execution_count": 15,
   "metadata": {
    "collapsed": false
   },
   "outputs": [],
   "source": [
    "# layer1\n",
    "conv1 = max_pool( conv2d(_X, wc1, bc1), k=2 )\n",
    "conv1 = tf.nn.dropout(conv1, keep_prob)"
   ]
  },
  {
   "cell_type": "code",
   "execution_count": 16,
   "metadata": {
    "collapsed": true
   },
   "outputs": [],
   "source": [
    "# layer2\n",
    "conv2 = max_pool( conv2d(conv1, wc2, bc2), k=2)\n",
    "conv2 = tf.nn.dropout(conv2, keep_prob)"
   ]
  },
  {
   "cell_type": "code",
   "execution_count": 17,
   "metadata": {
    "collapsed": false
   },
   "outputs": [],
   "source": [
    "# FC layer\n",
    "dense1 = tf.reshape(conv2, [-1, wd1.get_shape().as_list()[0]])\n",
    "dense1 = tf.nn.relu( tf.matmul(dense1, wd1) + bd1)\n",
    "dense1 = tf.nn.dropout(dense1, keep_prob)"
   ]
  },
  {
   "cell_type": "code",
   "execution_count": 18,
   "metadata": {
    "collapsed": false
   },
   "outputs": [],
   "source": [
    "# pred, cost\n",
    "pred = tf.matmul(dense1, wout) + bout\n",
    "cost = tf.reduce_mean(tf.nn.softmax_cross_entropy_with_logits(\\\n",
    "                        logits=pred, labels=y))"
   ]
  },
  {
   "cell_type": "code",
   "execution_count": 22,
   "metadata": {
    "collapsed": false
   },
   "outputs": [],
   "source": [
    "# optimizer\n",
    "optimizer = tf.train.AdamOptimizer(learning_rate=learning_rate)\n",
    "optimizer = optimizer.minimize(cost)"
   ]
  },
  {
   "cell_type": "code",
   "execution_count": 20,
   "metadata": {
    "collapsed": true
   },
   "outputs": [],
   "source": [
    "# Evaluation\n",
    "correct_pred = tf.equal(tf.argmax(pred,1), tf.argmax(y,1))\n",
    "accuracy = tf.reduce_mean(tf.cast(correct_pred, tf.float32))"
   ]
  },
  {
   "cell_type": "code",
   "execution_count": 23,
   "metadata": {
    "collapsed": false
   },
   "outputs": [
    {
     "name": "stdout",
     "output_type": "stream",
     "text": [
      "Iter:  1280 , Minibatch loss=  44077.906250 , Training Accuracy=  0.07031\n",
      "Iter:  2560 , Minibatch loss=  25155.757812 , Training Accuracy=  0.25781\n",
      "Iter:  3840 , Minibatch loss=  15972.330078 , Training Accuracy=  0.48438\n",
      "Iter:  5120 , Minibatch loss=  12187.164062 , Training Accuracy=  0.50781\n",
      "Iter:  6400 , Minibatch loss=  8674.865234 , Training Accuracy=  0.66406\n",
      "Iter:  7680 , Minibatch loss=  5425.223145 , Training Accuracy=  0.69531\n",
      "Iter:  8960 , Minibatch loss=  6742.081055 , Training Accuracy=  0.67188\n",
      "Iter:  10240 , Minibatch loss=  5503.110352 , Training Accuracy=  0.78125\n",
      "Iter:  11520 , Minibatch loss=  4396.492188 , Training Accuracy=  0.79688\n",
      "Iter:  12800 , Minibatch loss=  5319.227539 , Training Accuracy=  0.71875\n",
      "Iter:  14080 , Minibatch loss=  4102.327637 , Training Accuracy=  0.76562\n",
      "Iter:  15360 , Minibatch loss=  2946.980469 , Training Accuracy=  0.81250\n",
      "Iter:  16640 , Minibatch loss=  2825.609375 , Training Accuracy=  0.85156\n",
      "Iter:  17920 , Minibatch loss=  1820.290039 , Training Accuracy=  0.87500\n",
      "Iter:  19200 , Minibatch loss=  4735.183594 , Training Accuracy=  0.77344\n",
      "Iter:  20480 , Minibatch loss=  2134.323486 , Training Accuracy=  0.87500\n",
      "Iter:  21760 , Minibatch loss=  2617.426758 , Training Accuracy=  0.88281\n",
      "Iter:  23040 , Minibatch loss=  2391.767822 , Training Accuracy=  0.88281\n",
      "Iter:  24320 , Minibatch loss=  2602.272461 , Training Accuracy=  0.85938\n",
      "Iter:  25600 , Minibatch loss=  2853.635742 , Training Accuracy=  0.84375\n",
      "Iter:  26880 , Minibatch loss=  2507.037109 , Training Accuracy=  0.85156\n",
      "Iter:  28160 , Minibatch loss=  1828.569580 , Training Accuracy=  0.90625\n",
      "Iter:  29440 , Minibatch loss=  2188.334961 , Training Accuracy=  0.88281\n",
      "Iter:  30720 , Minibatch loss=  1277.989014 , Training Accuracy=  0.90625\n",
      "Iter:  32000 , Minibatch loss=  2634.451416 , Training Accuracy=  0.83594\n",
      "Iter:  33280 , Minibatch loss=  1759.708374 , Training Accuracy=  0.87500\n",
      "Iter:  34560 , Minibatch loss=  2811.287109 , Training Accuracy=  0.86719\n",
      "Iter:  35840 , Minibatch loss=  1667.051880 , Training Accuracy=  0.89062\n",
      "Iter:  37120 , Minibatch loss=  2770.049072 , Training Accuracy=  0.84375\n",
      "Iter:  38400 , Minibatch loss=  1222.495850 , Training Accuracy=  0.89844\n",
      "Iter:  39680 , Minibatch loss=  1339.026245 , Training Accuracy=  0.86719\n",
      "Iter:  40960 , Minibatch loss=  861.405273 , Training Accuracy=  0.89844\n",
      "Iter:  42240 , Minibatch loss=  1585.747803 , Training Accuracy=  0.89062\n",
      "Iter:  43520 , Minibatch loss=  1273.538330 , Training Accuracy=  0.89062\n",
      "Iter:  44800 , Minibatch loss=  1674.001343 , Training Accuracy=  0.88281\n",
      "Iter:  46080 , Minibatch loss=  1640.256836 , Training Accuracy=  0.85938\n",
      "Iter:  47360 , Minibatch loss=  1340.287720 , Training Accuracy=  0.86719\n",
      "Iter:  48640 , Minibatch loss=  1189.899658 , Training Accuracy=  0.92188\n",
      "Iter:  49920 , Minibatch loss=  1327.137451 , Training Accuracy=  0.89062\n",
      "Iter:  51200 , Minibatch loss=  1860.436768 , Training Accuracy=  0.86719\n",
      "Iter:  52480 , Minibatch loss=  819.782593 , Training Accuracy=  0.92188\n",
      "Iter:  53760 , Minibatch loss=  914.911377 , Training Accuracy=  0.95312\n",
      "Iter:  55040 , Minibatch loss=  824.620850 , Training Accuracy=  0.90625\n",
      "Iter:  56320 , Minibatch loss=  669.245911 , Training Accuracy=  0.92969\n",
      "Iter:  57600 , Minibatch loss=  1514.916016 , Training Accuracy=  0.87500\n",
      "Iter:  58880 , Minibatch loss=  744.504517 , Training Accuracy=  0.96094\n",
      "Iter:  60160 , Minibatch loss=  1565.460693 , Training Accuracy=  0.90625\n",
      "Iter:  61440 , Minibatch loss=  1030.335938 , Training Accuracy=  0.94531\n",
      "Iter:  62720 , Minibatch loss=  1265.551147 , Training Accuracy=  0.92188\n",
      "Iter:  64000 , Minibatch loss=  951.113098 , Training Accuracy=  0.92969\n",
      "Iter:  65280 , Minibatch loss=  1063.034058 , Training Accuracy=  0.92969\n",
      "Iter:  66560 , Minibatch loss=  758.099792 , Training Accuracy=  0.94531\n",
      "Iter:  67840 , Minibatch loss=  1115.112549 , Training Accuracy=  0.90625\n",
      "Iter:  69120 , Minibatch loss=  1780.706665 , Training Accuracy=  0.84375\n",
      "Iter:  70400 , Minibatch loss=  1139.496582 , Training Accuracy=  0.90625\n",
      "Iter:  71680 , Minibatch loss=  1550.114746 , Training Accuracy=  0.87500\n",
      "Iter:  72960 , Minibatch loss=  1200.798828 , Training Accuracy=  0.90625\n",
      "Iter:  74240 , Minibatch loss=  431.837128 , Training Accuracy=  0.95312\n",
      "Iter:  75520 , Minibatch loss=  485.803528 , Training Accuracy=  0.92969\n",
      "Iter:  76800 , Minibatch loss=  1009.149475 , Training Accuracy=  0.92188\n",
      "Iter:  78080 , Minibatch loss=  880.258179 , Training Accuracy=  0.89844\n",
      "Iter:  79360 , Minibatch loss=  396.434448 , Training Accuracy=  0.95312\n",
      "Iter:  80640 , Minibatch loss=  494.765625 , Training Accuracy=  0.94531\n",
      "Iter:  81920 , Minibatch loss=  539.661255 , Training Accuracy=  0.93750\n",
      "Iter:  83200 , Minibatch loss=  1203.254395 , Training Accuracy=  0.91406\n",
      "Iter:  84480 , Minibatch loss=  888.940857 , Training Accuracy=  0.88281\n",
      "Iter:  85760 , Minibatch loss=  613.043640 , Training Accuracy=  0.93750\n",
      "Iter:  87040 , Minibatch loss=  507.048096 , Training Accuracy=  0.91406\n",
      "Iter:  88320 , Minibatch loss=  703.366699 , Training Accuracy=  0.92188\n",
      "Iter:  89600 , Minibatch loss=  319.651733 , Training Accuracy=  0.94531\n",
      "Iter:  90880 , Minibatch loss=  1050.807373 , Training Accuracy=  0.87500\n",
      "Iter:  92160 , Minibatch loss=  1094.216553 , Training Accuracy=  0.89062\n",
      "Iter:  93440 , Minibatch loss=  708.012512 , Training Accuracy=  0.96094\n",
      "Iter:  94720 , Minibatch loss=  464.955109 , Training Accuracy=  0.94531\n",
      "Iter:  96000 , Minibatch loss=  675.795654 , Training Accuracy=  0.95312\n",
      "Iter:  97280 , Minibatch loss=  727.202576 , Training Accuracy=  0.95312\n",
      "Iter:  98560 , Minibatch loss=  431.342896 , Training Accuracy=  0.93750\n",
      "Iter:  99840 , Minibatch loss=  238.165558 , Training Accuracy=  0.96094\n",
      "Optimization Finished!\n"
     ]
    },
    {
     "ename": "ValueError",
     "evalue": "Cannot feed value of shape (256, 784) for Tensor 'Placeholder_1:0', which has shape '(?, 10)'",
     "output_type": "error",
     "traceback": [
      "\u001b[1;31m---------------------------------------------------------------------------\u001b[0m",
      "\u001b[1;31mValueError\u001b[0m                                Traceback (most recent call last)",
      "\u001b[1;32m<ipython-input-23-8677cacdfaf5>\u001b[0m in \u001b[0;36m<module>\u001b[1;34m()\u001b[0m\n\u001b[0;32m     14\u001b[0m     \u001b[0mprint\u001b[0m \u001b[1;33m(\u001b[0m\u001b[1;34m\"Optimization Finished!\"\u001b[0m\u001b[1;33m)\u001b[0m\u001b[1;33m\u001b[0m\u001b[0m\n\u001b[0;32m     15\u001b[0m \u001b[1;33m\u001b[0m\u001b[0m\n\u001b[1;32m---> 16\u001b[1;33m     \u001b[0mtest_acc\u001b[0m \u001b[1;33m=\u001b[0m \u001b[0msess\u001b[0m\u001b[1;33m.\u001b[0m\u001b[0mrun\u001b[0m\u001b[1;33m(\u001b[0m\u001b[0maccuracy\u001b[0m\u001b[1;33m,\u001b[0m \u001b[0mfeed_dict\u001b[0m\u001b[1;33m=\u001b[0m\u001b[1;33m{\u001b[0m                \u001b[0mx\u001b[0m\u001b[1;33m:\u001b[0m \u001b[0mmnist\u001b[0m\u001b[1;33m.\u001b[0m\u001b[0mtest\u001b[0m\u001b[1;33m.\u001b[0m\u001b[0mimages\u001b[0m\u001b[1;33m[\u001b[0m\u001b[1;33m:\u001b[0m\u001b[1;36m256\u001b[0m\u001b[1;33m]\u001b[0m\u001b[1;33m,\u001b[0m                 \u001b[0my\u001b[0m\u001b[1;33m:\u001b[0m \u001b[0mmnist\u001b[0m\u001b[1;33m.\u001b[0m\u001b[0mtest\u001b[0m\u001b[1;33m.\u001b[0m\u001b[0mimages\u001b[0m\u001b[1;33m[\u001b[0m\u001b[1;33m:\u001b[0m\u001b[1;36m256\u001b[0m\u001b[1;33m]\u001b[0m\u001b[1;33m,\u001b[0m                 \u001b[0mkeep_prob\u001b[0m\u001b[1;33m:\u001b[0m\u001b[1;36m1.0\u001b[0m\u001b[1;33m}\u001b[0m\u001b[1;33m)\u001b[0m\u001b[1;33m\u001b[0m\u001b[0m\n\u001b[0m\u001b[0;32m     17\u001b[0m     \u001b[0mprint\u001b[0m \u001b[1;33m(\u001b[0m\u001b[1;34m\"Testing Accuracy: \"\u001b[0m\u001b[1;33m,\u001b[0m \u001b[0mtest_acc\u001b[0m\u001b[1;33m)\u001b[0m\u001b[1;33m\u001b[0m\u001b[0m\n",
      "\u001b[1;32mD:\\py\\A3_64\\envs\\tensorflow-3-64\\lib\\site-packages\\tensorflow\\python\\client\\session.py\u001b[0m in \u001b[0;36mrun\u001b[1;34m(self, fetches, feed_dict, options, run_metadata)\u001b[0m\n\u001b[0;32m    765\u001b[0m     \u001b[1;32mtry\u001b[0m\u001b[1;33m:\u001b[0m\u001b[1;33m\u001b[0m\u001b[0m\n\u001b[0;32m    766\u001b[0m       result = self._run(None, fetches, feed_dict, options_ptr,\n\u001b[1;32m--> 767\u001b[1;33m                          run_metadata_ptr)\n\u001b[0m\u001b[0;32m    768\u001b[0m       \u001b[1;32mif\u001b[0m \u001b[0mrun_metadata\u001b[0m\u001b[1;33m:\u001b[0m\u001b[1;33m\u001b[0m\u001b[0m\n\u001b[0;32m    769\u001b[0m         \u001b[0mproto_data\u001b[0m \u001b[1;33m=\u001b[0m \u001b[0mtf_session\u001b[0m\u001b[1;33m.\u001b[0m\u001b[0mTF_GetBuffer\u001b[0m\u001b[1;33m(\u001b[0m\u001b[0mrun_metadata_ptr\u001b[0m\u001b[1;33m)\u001b[0m\u001b[1;33m\u001b[0m\u001b[0m\n",
      "\u001b[1;32mD:\\py\\A3_64\\envs\\tensorflow-3-64\\lib\\site-packages\\tensorflow\\python\\client\\session.py\u001b[0m in \u001b[0;36m_run\u001b[1;34m(self, handle, fetches, feed_dict, options, run_metadata)\u001b[0m\n\u001b[0;32m    942\u001b[0m                 \u001b[1;34m'Cannot feed value of shape %r for Tensor %r, '\u001b[0m\u001b[1;33m\u001b[0m\u001b[0m\n\u001b[0;32m    943\u001b[0m                 \u001b[1;34m'which has shape %r'\u001b[0m\u001b[1;33m\u001b[0m\u001b[0m\n\u001b[1;32m--> 944\u001b[1;33m                 % (np_val.shape, subfeed_t.name, str(subfeed_t.get_shape())))\n\u001b[0m\u001b[0;32m    945\u001b[0m           \u001b[1;32mif\u001b[0m \u001b[1;32mnot\u001b[0m \u001b[0mself\u001b[0m\u001b[1;33m.\u001b[0m\u001b[0mgraph\u001b[0m\u001b[1;33m.\u001b[0m\u001b[0mis_feedable\u001b[0m\u001b[1;33m(\u001b[0m\u001b[0msubfeed_t\u001b[0m\u001b[1;33m)\u001b[0m\u001b[1;33m:\u001b[0m\u001b[1;33m\u001b[0m\u001b[0m\n\u001b[0;32m    946\u001b[0m             \u001b[1;32mraise\u001b[0m \u001b[0mValueError\u001b[0m\u001b[1;33m(\u001b[0m\u001b[1;34m'Tensor %s may not be fed.'\u001b[0m \u001b[1;33m%\u001b[0m \u001b[0msubfeed_t\u001b[0m\u001b[1;33m)\u001b[0m\u001b[1;33m\u001b[0m\u001b[0m\n",
      "\u001b[1;31mValueError\u001b[0m: Cannot feed value of shape (256, 784) for Tensor 'Placeholder_1:0', which has shape '(?, 10)'"
     ]
    }
   ],
   "source": [
    "with tf.Session() as sess:\n",
    "    sess.run(tf.global_variables_initializer())\n",
    "    step = 1\n",
    "    while step * batch_size < training_iters:\n",
    "        batch_xs, batch_ys = mnist.train.next_batch(batch_size)\n",
    "        sess.run(optimizer, feed_dict={\\\n",
    "          x: batch_xs, y: batch_ys, keep_prob:dropout })\n",
    "        if step % display_step == 0:\n",
    "            acc = sess.run(accuracy, feed_dict={\\\n",
    "                x: batch_xs, y: batch_ys, keep_prob:1.0})\n",
    "            loss = sess.run(cost, feed_dict={\\\n",
    "                x: batch_xs, y: batch_ys, keep_prob:1.0})\n",
    "            print (\"Iter: \", str(step*batch_size),\n",
    "                  \", Minibatch loss= \", \"{:.6f}\".format(loss),\n",
    "                  \", Training Accuracy= \", \"{:.5f}\".format(acc))\n",
    "        step += 1\n",
    "    print (\"Optimization Finished!\")\n",
    "    \n",
    "    test_acc = sess.run(accuracy, feed_dict={\\\n",
    "                x: mnist.test.images[:256], \\\n",
    "                y: mnist.test.labels[:256], \\\n",
    "                keep_prob:1.0})\n",
    "    print (\"Testing Accuracy: \", test_acc)"
   ]
  },
  {
   "cell_type": "code",
   "execution_count": null,
   "metadata": {
    "collapsed": true
   },
   "outputs": [],
   "source": []
  }
 ],
 "metadata": {
  "kernelspec": {
   "display_name": "Python 3",
   "language": "python",
   "name": "python3"
  },
  "language_info": {
   "codemirror_mode": {
    "name": "ipython",
    "version": 3
   },
   "file_extension": ".py",
   "mimetype": "text/x-python",
   "name": "python",
   "nbconvert_exporter": "python",
   "pygments_lexer": "ipython3",
   "version": "3.5.3"
  }
 },
 "nbformat": 4,
 "nbformat_minor": 2
}
