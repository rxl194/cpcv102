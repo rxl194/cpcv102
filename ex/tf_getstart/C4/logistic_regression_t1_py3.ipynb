{
 "cells": [
  {
   "cell_type": "code",
   "execution_count": 1,
   "metadata": {
    "collapsed": true
   },
   "outputs": [],
   "source": [
    "import input_data\n",
    "import tensorflow as tf\n",
    "import matplotlib.pyplot as plt"
   ]
  },
  {
   "cell_type": "code",
   "execution_count": 2,
   "metadata": {
    "collapsed": false
   },
   "outputs": [
    {
     "name": "stdout",
     "output_type": "stream",
     "text": [
      "Extracting .\\train-images-idx3-ubyte.gz\n",
      "Extracting .\\train-labels-idx1-ubyte.gz\n",
      "Extracting .\\t10k-images-idx3-ubyte.gz\n",
      "Extracting .\\t10k-labels-idx1-ubyte.gz\n"
     ]
    }
   ],
   "source": [
    "mnist = input_data.read_data_sets(\".\", one_hot=True)"
   ]
  },
  {
   "cell_type": "code",
   "execution_count": 3,
   "metadata": {
    "collapsed": true
   },
   "outputs": [],
   "source": [
    "training_epochs = 25\n",
    "learning_rate = 0.01\n",
    "batch_size = 100\n",
    "display_step = 1"
   ]
  },
  {
   "cell_type": "code",
   "execution_count": 4,
   "metadata": {
    "collapsed": true
   },
   "outputs": [],
   "source": [
    "x = tf.placeholder(\"float\", [None, 784])\n",
    "y = tf.placeholder(\"float\", [None, 10])"
   ]
  },
  {
   "cell_type": "code",
   "execution_count": 7,
   "metadata": {
    "collapsed": false
   },
   "outputs": [],
   "source": [
    "b = tf.Variable(tf.zeros([10]))\n",
    "W = tf.Variable(tf.random_normal([784, 10], mean=0., \\\n",
    "        stddev=0.01, dtype=tf.float32))\n",
    "activation = tf.nn.softmax(tf.matmul(x, W) + b)"
   ]
  },
  {
   "cell_type": "code",
   "execution_count": 14,
   "metadata": {
    "collapsed": false
   },
   "outputs": [],
   "source": [
    "cross_entroy = y * tf.log(activation)\n",
    "cost = -tf.reduce_mean(tf.reduce_sum(cross_entroy, axis=1))"
   ]
  },
  {
   "cell_type": "code",
   "execution_count": 15,
   "metadata": {
    "collapsed": false
   },
   "outputs": [],
   "source": [
    "optimizer = tf.train.GradientDescentOptimizer(learning_rate)\n",
    "optimizer = optimizer.minimize(cost)"
   ]
  },
  {
   "cell_type": "code",
   "execution_count": 16,
   "metadata": {
    "collapsed": true
   },
   "outputs": [],
   "source": [
    "avg_set = []\n",
    "epoch_set = []"
   ]
  },
  {
   "cell_type": "code",
   "execution_count": 24,
   "metadata": {
    "collapsed": false
   },
   "outputs": [
    {
     "name": "stdout",
     "output_type": "stream",
     "text": [
      "Epoch:  0001 cost= 1.171024427\n",
      "Epoch:  0002 cost= 0.661287199\n",
      "Epoch:  0003 cost= 0.550119711\n",
      "Epoch:  0004 cost= 0.496269517\n",
      "Epoch:  0005 cost= 0.463259799\n",
      "Epoch:  0006 cost= 0.440452019\n",
      "Epoch:  0007 cost= 0.423756352\n",
      "Epoch:  0008 cost= 0.410418147\n",
      "Epoch:  0009 cost= 0.399667727\n",
      "Epoch:  0010 cost= 0.390584047\n",
      "Epoch:  0011 cost= 0.383051728\n",
      "Epoch:  0012 cost= 0.376886351\n",
      "Epoch:  0013 cost= 0.370573579\n",
      "Epoch:  0014 cost= 0.365967288\n",
      "Epoch:  0015 cost= 0.361111509\n",
      "Epoch:  0016 cost= 0.356908097\n",
      "Epoch:  0017 cost= 0.353314249\n",
      "Epoch:  0018 cost= 0.350342925\n",
      "Epoch:  0019 cost= 0.346810385\n",
      "Epoch:  0020 cost= 0.343979580\n",
      "Epoch:  0021 cost= 0.341285383\n",
      "Epoch:  0022 cost= 0.338890380\n",
      "Epoch:  0023 cost= 0.336624680\n",
      "Epoch:  0024 cost= 0.334361504\n",
      "Epoch:  0025 cost= 0.332408236\n",
      "Training phase finished\n"
     ]
    },
    {
     "data": {
      "image/png": "[encoded data removed]",
      "text/plain": [
       "<matplotlib.figure.Figure at 0x1fd51327d30>"
      ]
     },
     "metadata": {},
     "output_type": "display_data"
    },
    {
     "name": "stdout",
     "output_type": "stream",
     "text": [
      "Model accuracy: 0.9144\n"
     ]
    }
   ],
   "source": [
    "init = tf.global_variables_initializer()\n",
    "with tf.Session() as sess:\n",
    "    sess.run(init)\n",
    "    for epoch in range(training_epochs):\n",
    "        avg_cost = 0.\n",
    "        total_batch = int(mnist.train.num_examples/batch_size)\n",
    "        for i in range(total_batch):\n",
    "            batch_xs, batch_ys = mnist.train.next_batch(batch_size)\n",
    "            sess.run(optimizer, feed_dict={x: batch_xs, y: batch_ys})\n",
    "            avg_cost += sess.run(cost, feed_dict={x: batch_xs, y: batch_ys})/total_batch\n",
    "        if epoch % display_step == 0 :\n",
    "            print (\"Epoch: \", '%04d' % (epoch+1), \\\n",
    "               \"cost=\", \"{:.9f}\".format(avg_cost))\n",
    "        avg_set.append(avg_cost)\n",
    "        epoch_set.append(epoch+1)\n",
    "    print (\"Training phase finished\")\n",
    "    plt.plot(epoch_set, avg_set, 'o', \\\n",
    "            label='Logistic Regression Training phase')\n",
    "    plt.ylabel('cost')\n",
    "    plt.xlabel('epoch')\n",
    "    plt.legend()\n",
    "    plt.show()\n",
    "    correct_prediction = tf.equal(\\\n",
    "            tf.argmax(activation, 1), tf.argmax(y, 1))\n",
    "    accuracy = tf.reduce_mean(tf.cast(correct_prediction, \"float\"))\n",
    "    print (\"Model accuracy:\", accuracy.eval({x: mnist.test.images, y: mnist.test.labels}))"
   ]
  },
  {
   "cell_type": "code",
   "execution_count": null,
   "metadata": {
    "collapsed": true
   },
   "outputs": [],
   "source": []
  }
 ],
 "metadata": {
  "kernelspec": {
   "display_name": "Python 3",
   "language": "python",
   "name": "python3"
  },
  "language_info": {
   "codemirror_mode": {
    "name": "ipython",
    "version": 3
   },
   "file_extension": ".py",
   "mimetype": "text/x-python",
   "name": "python",
   "nbconvert_exporter": "python",
   "pygments_lexer": "ipython3",
   "version": "3.5.3"
  }
 },
 "nbformat": 4,
 "nbformat_minor": 2
}
