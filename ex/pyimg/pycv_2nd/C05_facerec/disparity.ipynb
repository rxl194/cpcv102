{
 "cells": [
  {
   "cell_type": "code",
   "execution_count": null,
   "metadata": {
    "collapsed": false
   },
   "outputs": [],
   "source": [
    "# %load disparity.py\n",
    "import numpy as np\n",
    "import cv2\n",
    "from matplotlib import pyplot as plot\n",
    "%matplotlib inline\n",
    "\n",
    "def update(val = 0):\n",
    "    stereo.setBlockSize(cv2.getTrackbarPos('window_size', 'disparity'))\n",
    "    stereo.setUniquenessRatio(cv2.getTrackbarPos('uniquenessRatio', 'disparity'))\n",
    "    stereo.setSpeckleWindowSize(cv2.getTrackbarPos('speckleWindowSize', 'disparity'))\n",
    "    stereo.setSpeckleRange(cv2.getTrackbarPos('speckleRange', 'disparity'))\n",
    "    stereo.setDisp12MaxDiff(cv2.getTrackbarPos('disp12MaxDiff', 'disparity'))\n",
    "\n",
    "    print 'computing disparity...'\n",
    "    disp = stereo.compute(imgL, imgR).astype(np.float32) / 16.0\n",
    "\n",
    "    plot.subplot(221), plot.imshow(imgL), plot.title('left')\n",
    "    plot.subplot(222), plot.imshow((disp-min_disp)/num_disp), plot.title('disparity')\n",
    "    \n",
    "\n",
    "if __name__ == \"__main__\":\n",
    "    window_size = 5\n",
    "    min_disp = 16\n",
    "    num_disp = 192-min_disp\n",
    "    blockSize = window_size\n",
    "    uniquenessRatio = 1\n",
    "    speckleRange = 3\n",
    "    speckleWindowSize = 3\n",
    "    disp12MaxDiff = 200\n",
    "    P1 = 600\n",
    "    P2 = 2400\n",
    "    imgL = cv2.imread('../images/dis1.jpg')\n",
    "    imgR = cv2.imread('../images/dis2.jpg')\n",
    "    cv2.namedWindow('disparity')\n",
    "    cv2.createTrackbar('speckleRange', 'disparity', speckleRange, 50, update)    \n",
    "    cv2.createTrackbar('window_size', 'disparity', window_size, 21, update)\n",
    "    cv2.createTrackbar('speckleWindowSize', 'disparity', speckleWindowSize, 200, update)\n",
    "    cv2.createTrackbar('uniquenessRatio', 'disparity', uniquenessRatio, 50, update)\n",
    "    cv2.createTrackbar('disp12MaxDiff', 'disparity', disp12MaxDiff, 250, update)\n",
    "    stereo = cv2.StereoSGBM_create(\n",
    "        minDisparity = min_disp,\n",
    "        numDisparities = num_disp,\n",
    "        blockSize = window_size,\n",
    "        uniquenessRatio = uniquenessRatio,\n",
    "        speckleRange = speckleRange,\n",
    "        speckleWindowSize = speckleWindowSize,\n",
    "        disp12MaxDiff = disp12MaxDiff,\n",
    "        P1 = P1,\n",
    "        P2 = P2\n",
    "    )\n",
    "    update()\n"
   ]
  },
  {
   "cell_type": "code",
   "execution_count": null,
   "metadata": {
    "collapsed": true
   },
   "outputs": [],
   "source": []
  },
  {
   "cell_type": "code",
   "execution_count": null,
   "metadata": {
    "collapsed": true
   },
   "outputs": [],
   "source": []
  }
 ],
 "metadata": {
  "anaconda-cloud": {},
  "kernelspec": {
   "display_name": "Python [conda root]",
   "language": "python",
   "name": "conda-root-py"
  },
  "language_info": {
   "codemirror_mode": {
    "name": "ipython",
    "version": 2
   },
   "file_extension": ".py",
   "mimetype": "text/x-python",
   "name": "python",
   "nbconvert_exporter": "python",
   "pygments_lexer": "ipython2",
   "version": "2.7.12"
  }
 },
 "nbformat": 4,
 "nbformat_minor": 1
}
