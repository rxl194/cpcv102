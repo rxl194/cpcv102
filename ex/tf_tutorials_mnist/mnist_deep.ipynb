{
 "cells": [
  {
   "cell_type": "code",
   "execution_count": 1,
   "metadata": {
    "collapsed": true,
    "deletable": true,
    "editable": true
   },
   "outputs": [],
   "source": [
    "import input_data\n",
    "import numpy\n",
    "import tensorflow as tf"
   ]
  },
  {
   "cell_type": "code",
   "execution_count": 2,
   "metadata": {
    "collapsed": false,
    "deletable": true,
    "editable": true
   },
   "outputs": [
    {
     "name": "stdout",
     "output_type": "stream",
     "text": [
      "Extracting ./tf_mnist\\train-images-idx3-ubyte.gz\n",
      "Extracting ./tf_mnist\\train-labels-idx1-ubyte.gz\n",
      "Extracting ./tf_mnist\\t10k-images-idx3-ubyte.gz\n",
      "Extracting ./tf_mnist\\t10k-labels-idx1-ubyte.gz\n"
     ]
    }
   ],
   "source": [
    "mnist = input_data.read_data_sets(\"./tf_mnist\", one_hot=True)"
   ]
  },
  {
   "cell_type": "code",
   "execution_count": 3,
   "metadata": {
    "collapsed": true,
    "deletable": true,
    "editable": true
   },
   "outputs": [],
   "source": [
    "x_train = tf.placeholder(tf.float32, [None, 784])\n",
    "y_train = tf.placeholder(tf.float32, [None, 10])"
   ]
  },
  {
   "cell_type": "code",
   "execution_count": 4,
   "metadata": {
    "collapsed": true,
    "deletable": true,
    "editable": true
   },
   "outputs": [],
   "source": [
    "def weight_variable(shape):\n",
    "    initial = tf.truncated_normal(shape, stddev=0.1)\n",
    "    return tf.Variable(initial)"
   ]
  },
  {
   "cell_type": "code",
   "execution_count": 5,
   "metadata": {
    "collapsed": true,
    "deletable": true,
    "editable": true
   },
   "outputs": [],
   "source": [
    "def bias_variable(shape):\n",
    "#    initial = tf.constant(0.1, shape=shape)\n",
    "    initial = tf.zeros(*shape)\n",
    "    return tf.Variable(initial)"
   ]
  },
  {
   "cell_type": "code",
   "execution_count": 6,
   "metadata": {
    "collapsed": true,
    "deletable": true,
    "editable": true
   },
   "outputs": [],
   "source": [
    "def conv2d(x, W):\n",
    "    return tf.nn.conv2d(x, W, strides=[1, 1, 1, 1], padding='SAME')"
   ]
  },
  {
   "cell_type": "code",
   "execution_count": 7,
   "metadata": {
    "collapsed": true,
    "deletable": true,
    "editable": true
   },
   "outputs": [],
   "source": [
    "def max_pool_2x2(x):\n",
    "    return tf.nn.max_pool(x, ksize=[1, 2, 2, 1], \n",
    "        strides=[1, 2, 2, 1], padding='SAME')"
   ]
  },
  {
   "cell_type": "code",
   "execution_count": 8,
   "metadata": {
    "collapsed": true,
    "deletable": true,
    "editable": true
   },
   "outputs": [],
   "source": [
    "def deepnn(x):\n",
    "    x_image = tf.reshape(x, [-1, 28, 28, 1])\n",
    "    \n",
    "    w1 = weight_variable([5, 5, 1, 32])\n",
    "    b1 = bias_variable([32])\n",
    "    h1_conv = tf.nn.relu( conv2d(x_image, w1) + b1)\n",
    "    h1 = max_pool_2x2(h1_conv)\n",
    "    \n",
    "    w2 = weight_variable([5, 5, 32, 64])\n",
    "    b2 = bias_variable([64])\n",
    "    h2_conv = tf.nn.relu( conv2d(h1, w2) + b2)\n",
    "    h2 = max_pool_2x2(h2_conv)\n",
    "    \n",
    "    w_fc1 = weight_variable([7*7*64, 1024])\n",
    "    b_fc1 = bias_variable([1024])\n",
    "    h2_flat = tf.reshape(h2, [-1, 7*7*64])\n",
    "    h_fc1 = tf.nn.relu( tf.matmul(h2_flat, w_fc1) + b_fc1 )\n",
    "    \n",
    "    keep_prob = tf.placeholder(tf.float32)\n",
    "    h_fc1_drop = tf.nn.dropout(h_fc1, keep_prob)\n",
    "    \n",
    "    w_fc2 = weight_variable([1024, 10])\n",
    "    b_fc2 = bias_variable([10])\n",
    "    \n",
    "    y_conv = tf.matmul(h_fc1_drop, w_fc2) + b_fc2\n",
    "    return y_conv, keep_prob"
   ]
  },
  {
   "cell_type": "code",
   "execution_count": 9,
   "metadata": {
    "collapsed": false,
    "deletable": true,
    "editable": true
   },
   "outputs": [],
   "source": [
    "# Build the graph for the deep net\n",
    "y_conv, keep_prob = deepnn(x_train)"
   ]
  },
  {
   "cell_type": "code",
   "execution_count": 10,
   "metadata": {
    "collapsed": false,
    "deletable": true,
    "editable": true
   },
   "outputs": [],
   "source": [
    "cross_entropy = tf.reduce_mean(\n",
    "    tf.nn.softmax_cross_entropy_with_logits(labels=y_train, logits=y_conv))\n",
    "train_step = tf.train.AdamOptimizer(1e-4).minimize(cross_entropy)\n",
    "correct_prediction = tf.equal(tf.argmax(y_conv, 1), tf.argmax(y_train, 1))\n",
    "accuracy = tf.reduce_mean( tf.cast(correct_prediction, tf.float32 ) )"
   ]
  },
  {
   "cell_type": "code",
   "execution_count": 11,
   "metadata": {
    "collapsed": false,
    "deletable": true,
    "editable": true
   },
   "outputs": [
    {
     "name": "stdout",
     "output_type": "stream",
     "text": [
      "step 0, train accuracy 0.02\n",
      "step 100, train accuracy 0.8\n",
      "step 200, train accuracy 0.94\n",
      "step 300, train accuracy 0.88\n",
      "step 400, train accuracy 1\n",
      "step 500, train accuracy 0.94\n",
      "step 600, train accuracy 0.96\n",
      "step 700, train accuracy 0.94\n",
      "step 800, train accuracy 0.94\n",
      "step 900, train accuracy 1\n",
      "step 1000, train accuracy 0.94\n",
      "step 1100, train accuracy 0.96\n",
      "step 1200, train accuracy 0.94\n",
      "step 1300, train accuracy 1\n",
      "step 1400, train accuracy 1\n",
      "step 1500, train accuracy 0.96\n",
      "step 1600, train accuracy 1\n",
      "step 1700, train accuracy 1\n",
      "step 1800, train accuracy 0.98\n",
      "step 1900, train accuracy 1\n",
      "step 2000, train accuracy 0.98\n",
      "step 2100, train accuracy 0.98\n",
      "step 2200, train accuracy 1\n",
      "step 2300, train accuracy 1\n",
      "step 2400, train accuracy 1\n",
      "step 2500, train accuracy 0.98\n",
      "step 2600, train accuracy 0.98\n",
      "step 2700, train accuracy 1\n",
      "step 2800, train accuracy 1\n",
      "step 2900, train accuracy 1\n",
      "step 3000, train accuracy 1\n",
      "step 3100, train accuracy 0.96\n",
      "step 3200, train accuracy 1\n",
      "step 3300, train accuracy 1\n",
      "step 3400, train accuracy 1\n",
      "step 3500, train accuracy 0.98\n",
      "step 3600, train accuracy 1\n",
      "step 3700, train accuracy 0.96\n",
      "step 3800, train accuracy 1\n",
      "step 3900, train accuracy 1\n",
      "step 4000, train accuracy 1\n",
      "step 4100, train accuracy 0.98\n",
      "step 4200, train accuracy 1\n",
      "step 4300, train accuracy 0.98\n",
      "step 4400, train accuracy 1\n",
      "step 4500, train accuracy 0.98\n",
      "step 4600, train accuracy 0.98\n",
      "step 4700, train accuracy 0.96\n",
      "step 4800, train accuracy 1\n",
      "step 4900, train accuracy 1\n",
      "step 5000, train accuracy 1\n",
      "step 5100, train accuracy 0.98\n",
      "step 5200, train accuracy 1\n",
      "step 5300, train accuracy 1\n",
      "step 5400, train accuracy 1\n",
      "step 5500, train accuracy 0.98\n",
      "step 5600, train accuracy 1\n",
      "step 5700, train accuracy 0.98\n",
      "step 5800, train accuracy 1\n",
      "step 5900, train accuracy 0.98\n",
      "step 6000, train accuracy 1\n",
      "step 6100, train accuracy 1\n",
      "step 6200, train accuracy 1\n",
      "step 6300, train accuracy 0.96\n",
      "step 6400, train accuracy 0.98\n",
      "step 6500, train accuracy 1\n",
      "step 6600, train accuracy 1\n",
      "step 6700, train accuracy 1\n",
      "step 6800, train accuracy 0.98\n",
      "step 6900, train accuracy 1\n",
      "step 7000, train accuracy 1\n",
      "step 7100, train accuracy 0.98\n",
      "step 7200, train accuracy 0.98\n",
      "step 7300, train accuracy 0.98\n",
      "step 7400, train accuracy 1\n",
      "step 7500, train accuracy 1\n",
      "step 7600, train accuracy 1\n",
      "step 7700, train accuracy 1\n",
      "step 7800, train accuracy 1\n",
      "step 7900, train accuracy 0.98\n",
      "step 8000, train accuracy 1\n",
      "step 8100, train accuracy 0.98\n",
      "step 8200, train accuracy 1\n",
      "step 8300, train accuracy 1\n",
      "step 8400, train accuracy 1\n",
      "step 8500, train accuracy 0.98\n",
      "step 8600, train accuracy 1\n",
      "step 8700, train accuracy 0.98\n",
      "step 8800, train accuracy 1\n",
      "step 8900, train accuracy 1\n",
      "step 9000, train accuracy 1\n",
      "step 9100, train accuracy 1\n",
      "step 9200, train accuracy 1\n",
      "step 9300, train accuracy 1\n",
      "step 9400, train accuracy 0.98\n",
      "step 9500, train accuracy 1\n",
      "step 9600, train accuracy 1\n",
      "step 9700, train accuracy 0.98\n",
      "step 9800, train accuracy 1\n",
      "step 9900, train accuracy 1\n",
      "step 10000, train accuracy 0.98\n",
      "step 10100, train accuracy 1\n",
      "step 10200, train accuracy 1\n",
      "step 10300, train accuracy 1\n",
      "step 10400, train accuracy 1\n",
      "step 10500, train accuracy 1\n",
      "step 10600, train accuracy 1\n",
      "step 10700, train accuracy 1\n",
      "step 10800, train accuracy 1\n",
      "step 10900, train accuracy 1\n",
      "step 11000, train accuracy 0.98\n",
      "step 11100, train accuracy 1\n",
      "step 11200, train accuracy 1\n",
      "step 11300, train accuracy 1\n",
      "step 11400, train accuracy 1\n",
      "step 11500, train accuracy 1\n",
      "step 11600, train accuracy 1\n",
      "step 11700, train accuracy 1\n",
      "step 11800, train accuracy 1\n",
      "step 11900, train accuracy 1\n",
      "step 12000, train accuracy 1\n",
      "step 12100, train accuracy 1\n",
      "step 12200, train accuracy 0.98\n",
      "step 12300, train accuracy 1\n",
      "step 12400, train accuracy 1\n",
      "step 12500, train accuracy 0.98\n",
      "step 12600, train accuracy 1\n",
      "step 12700, train accuracy 0.98\n",
      "step 12800, train accuracy 0.98\n",
      "step 12900, train accuracy 1\n",
      "step 13000, train accuracy 1\n",
      "step 13100, train accuracy 1\n",
      "step 13200, train accuracy 1\n",
      "step 13300, train accuracy 1\n",
      "step 13400, train accuracy 1\n",
      "step 13500, train accuracy 1\n",
      "step 13600, train accuracy 1\n",
      "step 13700, train accuracy 1\n",
      "step 13800, train accuracy 1\n",
      "step 13900, train accuracy 1\n",
      "step 14000, train accuracy 1\n",
      "step 14100, train accuracy 1\n",
      "step 14200, train accuracy 1\n",
      "step 14300, train accuracy 1\n",
      "step 14400, train accuracy 0.98\n",
      "step 14500, train accuracy 1\n",
      "step 14600, train accuracy 1\n",
      "step 14700, train accuracy 1\n",
      "step 14800, train accuracy 1\n",
      "step 14900, train accuracy 1\n",
      "step 15000, train accuracy 1\n",
      "step 15100, train accuracy 1\n",
      "step 15200, train accuracy 1\n",
      "step 15300, train accuracy 0.98\n",
      "step 15400, train accuracy 1\n",
      "step 15500, train accuracy 0.98\n",
      "step 15600, train accuracy 1\n",
      "step 15700, train accuracy 1\n",
      "step 15800, train accuracy 1\n",
      "step 15900, train accuracy 1\n",
      "step 16000, train accuracy 1\n",
      "step 16100, train accuracy 1\n",
      "step 16200, train accuracy 1\n",
      "step 16300, train accuracy 1\n",
      "step 16400, train accuracy 1\n",
      "step 16500, train accuracy 1\n",
      "step 16600, train accuracy 1\n",
      "step 16700, train accuracy 1\n",
      "step 16800, train accuracy 1\n",
      "step 16900, train accuracy 1\n",
      "step 17000, train accuracy 1\n",
      "step 17100, train accuracy 1\n",
      "step 17200, train accuracy 1\n",
      "step 17300, train accuracy 1\n",
      "step 17400, train accuracy 1\n",
      "step 17500, train accuracy 1\n",
      "step 17600, train accuracy 1\n",
      "step 17700, train accuracy 1\n",
      "step 17800, train accuracy 1\n",
      "step 17900, train accuracy 1\n",
      "step 18000, train accuracy 1\n",
      "step 18100, train accuracy 1\n",
      "step 18200, train accuracy 1\n",
      "step 18300, train accuracy 1\n",
      "step 18400, train accuracy 1\n",
      "step 18500, train accuracy 1\n",
      "step 18600, train accuracy 1\n",
      "step 18700, train accuracy 1\n",
      "step 18800, train accuracy 1\n",
      "step 18900, train accuracy 1\n",
      "step 19000, train accuracy 1\n",
      "step 19100, train accuracy 1\n",
      "step 19200, train accuracy 1\n",
      "step 19300, train accuracy 1\n",
      "step 19400, train accuracy 1\n",
      "step 19500, train accuracy 1\n",
      "step 19600, train accuracy 1\n",
      "step 19700, train accuracy 1\n",
      "step 19800, train accuracy 1\n",
      "step 19900, train accuracy 1\n",
      "test accuracy 0.9908\n"
     ]
    }
   ],
   "source": [
    "with tf.Session() as sess:\n",
    "    sess.run(tf.global_variables_initializer())\n",
    "    for i in range(20000):\n",
    "        batch = mnist.train.next_batch(50)\n",
    "        if i % 100 == 0:\n",
    "            train_accuracy = accuracy.eval( feed_dict = {\n",
    "                x_train: batch[0], y_train: batch[1], keep_prob: 1.0 })\n",
    "            print ('step %d, train accuracy %g' % (i, train_accuracy))\n",
    "        train_step.run( feed_dict = {\n",
    "            x_train: batch[0], y_train: batch[1], keep_prob: 0.5 })\n",
    "    print ('test accuracy %g' % accuracy.eval(feed_dict = {\n",
    "        x_train: mnist.test.images, y_train: mnist.test.labels, keep_prob: 1.0}))"
   ]
  },
  {
   "cell_type": "code",
   "execution_count": null,
   "metadata": {
    "collapsed": true,
    "deletable": true,
    "editable": true
   },
   "outputs": [],
   "source": []
  }
 ],
 "metadata": {
  "kernelspec": {
   "display_name": "Python 3",
   "language": "python",
   "name": "python3"
  },
  "language_info": {
   "codemirror_mode": {
    "name": "ipython",
    "version": 3
   },
   "file_extension": ".py",
   "mimetype": "text/x-python",
   "name": "python",
   "nbconvert_exporter": "python",
   "pygments_lexer": "ipython3",
   "version": "3.5.3"
  }
 },
 "nbformat": 4,
 "nbformat_minor": 2
}
