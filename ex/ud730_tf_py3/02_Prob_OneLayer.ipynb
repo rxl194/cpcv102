{
 "cells": [
  {
   "cell_type": "code",
   "execution_count": 1,
   "metadata": {
    "collapsed": false,
    "deletable": true,
    "editable": true
   },
   "outputs": [],
   "source": [
    "import numpy as np\n",
    "import tensorflow as tf\n",
    "from six.moves import cPickle as pickle\n",
    "from six.moves import range"
   ]
  },
  {
   "cell_type": "code",
   "execution_count": 2,
   "metadata": {
    "collapsed": false,
    "deletable": true,
    "editable": true
   },
   "outputs": [
    {
     "name": "stdout",
     "output_type": "stream",
     "text": [
      "Training set:  (200000, 28, 28) (200000,)\n",
      "Validation set:  (10000, 28, 28) (10000,)\n",
      "Test set:  (10000, 28, 28) (10000,)\n"
     ]
    }
   ],
   "source": [
    "pickle_file = 'notMNIST.pickle'\n",
    "\n",
    "with open(pickle_file, 'rb') as f:\n",
    "    save = pickle.load(f)\n",
    "    train_dataset = save['train_dataset']\n",
    "    train_labels = save['train_labels']\n",
    "    valid_dataset = save['valid_dataset']\n",
    "    valid_labels = save['valid_labels']\n",
    "    test_dataset = save['test_dataset']\n",
    "    test_labels = save['test_labels']\n",
    "    del save\n",
    "    print (\"Training set: \", train_dataset.shape, train_labels.shape)\n",
    "    print (\"Validation set: \", valid_dataset.shape, valid_labels.shape)\n",
    "    print (\"Test set: \", test_dataset.shape, test_labels.shape)"
   ]
  },
  {
   "cell_type": "code",
   "execution_count": 3,
   "metadata": {
    "collapsed": false,
    "deletable": true,
    "editable": true
   },
   "outputs": [
    {
     "name": "stdout",
     "output_type": "stream",
     "text": [
      "Training set:  (200000, 784) (200000, 10)\n",
      "Validation set:  (10000, 784) (10000, 10)\n",
      "Test set:  (10000, 784) (10000, 10)\n"
     ]
    }
   ],
   "source": [
    "image_size = 28\n",
    "num_labels = 10\n",
    "\n",
    "def reformat(dataset, labels):\n",
    "    datasets = dataset.reshape([-1, image_size*image_size])\\\n",
    "                 .astype(np.float32)\n",
    "    labels = (np.arange(num_labels) == labels[:,None])\\\n",
    "                 .astype(np.float32)\n",
    "    return datasets, labels\n",
    "\n",
    "train_dataset, train_labels = reformat(train_dataset, train_labels)\n",
    "valid_dataset, valid_labels = reformat(valid_dataset, valid_labels)\n",
    "test_dataset, test_labels = reformat(test_dataset, test_labels)\n",
    "print (\"Training set: \", train_dataset.shape, train_labels.shape)\n",
    "print (\"Validation set: \", valid_dataset.shape, valid_labels.shape)\n",
    "print (\"Test set: \", test_dataset.shape, test_labels.shape)\n",
    "    \n",
    "    "
   ]
  },
  {
   "cell_type": "code",
   "execution_count": 4,
   "metadata": {
    "collapsed": false,
    "deletable": true,
    "editable": true
   },
   "outputs": [],
   "source": [
    "train_size = train_dataset.shape[0]\n",
    "train_feature_size = train_dataset.shape[1]\n",
    "label_class_size = train_labels.shape[1]\n",
    "size_h1 = 1024\n",
    "\n",
    "graph = tf.Graph()\n",
    "with graph.as_default():\n",
    "    \n",
    "    tf_train_x = tf.placeholder(tf.float32, shape=[None, train_feature_size])\n",
    "    tf_train_y = tf.placeholder(tf.float32, shape=[None, label_class_size])\n",
    "    \n",
    "    w1 = tf.Variable(\n",
    "        tf.truncated_normal([image_size*image_size, size_h1]))\n",
    "    b1 = tf.Variable(tf.zeros([size_h1]))\n",
    "    \n",
    "    h1 = tf.nn.relu(tf.matmul(tf_train_x, w1)+b1)\n",
    "    \n",
    "    w2 = tf.Variable(\n",
    "        tf.truncated_normal([size_h1, num_labels]))\n",
    "    b2 = tf.Variable(tf.zeros([num_labels]))\n",
    "    \n",
    "    logits = tf.matmul(h1, w2)+b2\n",
    "    loss = tf.reduce_mean(\n",
    "        tf.nn.softmax_cross_entropy_with_logits(labels=tf_train_y, logits=logits))\n",
    "    \n",
    "    optimizer = tf.train.GradientDescentOptimizer(learning_rate=0.5)\n",
    "    optimizer = optimizer.minimize(loss)\n",
    "    \n",
    "    y_pred = tf.nn.softmax(logits)"
   ]
  },
  {
   "cell_type": "code",
   "execution_count": 5,
   "metadata": {
    "collapsed": true
   },
   "outputs": [],
   "source": [
    "def accuracy(predictions, labels):\n",
    "    return (100.* np.sum( np.argmax(predictions, 1) == np.argmax(labels, 1))\n",
    "        / predictions.shape[0])"
   ]
  },
  {
   "cell_type": "code",
   "execution_count": 10,
   "metadata": {
    "collapsed": false,
    "deletable": true,
    "editable": true
   },
   "outputs": [
    {
     "name": "stdout",
     "output_type": "stream",
     "text": [
      "Initialized\n",
      "Minibatch loss at step 0: 298.068634\n",
      "Minibatch accuracy: 13.0%\n",
      "Validation accuracy: 23.1%\n",
      "Minibatch loss at step 500: 6.871636\n",
      "Minibatch accuracy: 81.0%\n",
      "Validation accuracy: 80.5%\n",
      "Minibatch loss at step 1000: 8.021955\n",
      "Minibatch accuracy: 83.0%\n",
      "Validation accuracy: 79.5%\n",
      "Minibatch loss at step 1500: 10.610357\n",
      "Minibatch accuracy: 81.0%\n",
      "Validation accuracy: 81.7%\n",
      "Minibatch loss at step 2000: 5.978865\n",
      "Minibatch accuracy: 76.0%\n",
      "Validation accuracy: 80.8%\n",
      "Minibatch loss at step 2500: 1.671727\n",
      "Minibatch accuracy: 83.0%\n",
      "Validation accuracy: 82.0%\n",
      "Minibatch loss at step 3000: 3.073645\n",
      "Minibatch accuracy: 80.0%\n",
      "Validation accuracy: 81.1%\n",
      "Minibatch loss at step 3500: 3.125552\n",
      "Minibatch accuracy: 84.0%\n",
      "Validation accuracy: 82.2%\n",
      "Minibatch loss at step 4000: 5.684232\n",
      "Minibatch accuracy: 78.0%\n",
      "Validation accuracy: 82.4%\n",
      "Minibatch loss at step 4500: 1.325851\n",
      "Minibatch accuracy: 82.0%\n",
      "Validation accuracy: 83.1%\n",
      "Minibatch loss at step 5000: 0.929994\n",
      "Minibatch accuracy: 86.0%\n",
      "Validation accuracy: 82.5%\n",
      "Test accuracy: 88.5%\n"
     ]
    }
   ],
   "source": [
    "train_size = train_dataset.shape[0]\n",
    "num_steps = 5001\n",
    "batch_size = 100\n",
    "num_batch = int(train_size/batch_size)\n",
    "offset = 0\n",
    "\n",
    "with tf.Session(graph=graph) as sess:\n",
    "    sess.run(tf.global_variables_initializer())\n",
    "    print (\"Initialized\")\n",
    "    for step in range(num_steps):\n",
    "        batch_x = train_dataset[offset:offset+batch_size,:]\n",
    "        batch_y = train_labels[offset:offset+batch_size,:]\n",
    "        offset += batch_size\n",
    "        if ( offset >= train_size ): offset = 0\n",
    "        feed_dict = {tf_train_x: batch_x, tf_train_y: batch_y}\n",
    "        _, l, predictions = sess.run([optimizer, loss, y_pred], feed_dict=feed_dict)\n",
    "        if ( step % 500 == 0 ):\n",
    "            print (\"Minibatch loss at step %d: %f\" % (step, l))\n",
    "            print (\"Minibatch accuracy: %.1f%%\" % accuracy(predictions, batch_y))\n",
    "            valid_acc = accuracy( sess.run(y_pred, feed_dict={\\\n",
    "                tf_train_x: valid_dataset, tf_train_y: valid_labels}), valid_labels)                                \n",
    "            print (\"Validation accuracy: %.1f%%\" % valid_acc)\n",
    "    test_acc = accuracy( sess.run(y_pred, feed_dict={\\\n",
    "        tf_train_x: test_dataset, tf_train_y: test_labels}), test_labels)\n",
    "    print (\"Test accuracy: %.1f%%\" % test_acc)"
   ]
  },
  {
   "cell_type": "code",
   "execution_count": null,
   "metadata": {
    "collapsed": true,
    "deletable": true,
    "editable": true
   },
   "outputs": [],
   "source": []
  }
 ],
 "metadata": {
  "kernelspec": {
   "display_name": "Python 3",
   "language": "python",
   "name": "python3"
  },
  "language_info": {
   "codemirror_mode": {
    "name": "ipython",
    "version": 3
   },
   "file_extension": ".py",
   "mimetype": "text/x-python",
   "name": "python",
   "nbconvert_exporter": "python",
   "pygments_lexer": "ipython3",
   "version": "3.5.3"
  }
 },
 "nbformat": 4,
 "nbformat_minor": 2
}
