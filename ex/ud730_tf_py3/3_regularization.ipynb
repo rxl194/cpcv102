{
 "cells": [
  {
   "cell_type": "markdown",
   "metadata": {
    "colab_type": "text",
    "deletable": true,
    "editable": true,
    "id": "kR-4eNdK6lYS"
   },
   "source": [
    "Deep Learning\n",
    "=============\n",
    "\n",
    "Assignment 3\n",
    "------------\n",
    "\n",
    "Previously in `2_fullyconnected.ipynb`, you trained a logistic regression and a neural network model.\n",
    "\n",
    "The goal of this assignment is to explore regularization techniques."
   ]
  },
  {
   "cell_type": "code",
   "execution_count": 1,
   "metadata": {
    "cellView": "both",
    "colab": {
     "autoexec": {
      "startup": false,
      "wait_interval": 0
     }
    },
    "colab_type": "code",
    "collapsed": true,
    "deletable": true,
    "editable": true,
    "id": "JLpLa8Jt7Vu4"
   },
   "outputs": [],
   "source": [
    "# These are all the modules we'll be using later. Make sure you can import them\n",
    "# before proceeding further.\n",
    "from __future__ import print_function\n",
    "import numpy as np\n",
    "import tensorflow as tf\n",
    "from six.moves import cPickle as pickle"
   ]
  },
  {
   "cell_type": "markdown",
   "metadata": {
    "colab_type": "text",
    "deletable": true,
    "editable": true,
    "id": "1HrCK6e17WzV"
   },
   "source": [
    "First reload the data we generated in `1_notmnist.ipynb`."
   ]
  },
  {
   "cell_type": "code",
   "execution_count": 2,
   "metadata": {
    "cellView": "both",
    "colab": {
     "autoexec": {
      "startup": false,
      "wait_interval": 0
     },
     "output_extras": [
      {
       "item_id": 1
      }
     ]
    },
    "colab_type": "code",
    "collapsed": false,
    "deletable": true,
    "editable": true,
    "executionInfo": {
     "elapsed": 11777,
     "status": "ok",
     "timestamp": 1449849322348,
     "user": {
      "color": "",
      "displayName": "",
      "isAnonymous": false,
      "isMe": true,
      "permissionId": "",
      "photoUrl": "",
      "sessionId": "0",
      "userId": ""
     },
     "user_tz": 480
    },
    "id": "y3-cj1bpmuxc",
    "outputId": "e03576f1-ebbe-4838-c388-f1777bcc9873"
   },
   "outputs": [
    {
     "name": "stdout",
     "output_type": "stream",
     "text": [
      "Training set (200000, 28, 28) (200000,)\n",
      "Validation set (10000, 28, 28) (10000,)\n",
      "Test set (10000, 28, 28) (10000,)\n"
     ]
    }
   ],
   "source": [
    "pickle_file = 'notMNIST.pickle'\n",
    "\n",
    "with open(pickle_file, 'rb') as f:\n",
    "  save = pickle.load(f)\n",
    "  train_dataset = save['train_dataset']\n",
    "  train_labels = save['train_labels']\n",
    "  valid_dataset = save['valid_dataset']\n",
    "  valid_labels = save['valid_labels']\n",
    "  test_dataset = save['test_dataset']\n",
    "  test_labels = save['test_labels']\n",
    "  del save  # hint to help gc free up memory\n",
    "  print('Training set', train_dataset.shape, train_labels.shape)\n",
    "  print('Validation set', valid_dataset.shape, valid_labels.shape)\n",
    "  print('Test set', test_dataset.shape, test_labels.shape)"
   ]
  },
  {
   "cell_type": "markdown",
   "metadata": {
    "colab_type": "text",
    "deletable": true,
    "editable": true,
    "id": "L7aHrm6nGDMB"
   },
   "source": [
    "Reformat into a shape that's more adapted to the models we're going to train:\n",
    "- data as a flat matrix,\n",
    "- labels as float 1-hot encodings."
   ]
  },
  {
   "cell_type": "code",
   "execution_count": 3,
   "metadata": {
    "cellView": "both",
    "colab": {
     "autoexec": {
      "startup": false,
      "wait_interval": 0
     },
     "output_extras": [
      {
       "item_id": 1
      }
     ]
    },
    "colab_type": "code",
    "collapsed": false,
    "deletable": true,
    "editable": true,
    "executionInfo": {
     "elapsed": 11728,
     "status": "ok",
     "timestamp": 1449849322356,
     "user": {
      "color": "",
      "displayName": "",
      "isAnonymous": false,
      "isMe": true,
      "permissionId": "",
      "photoUrl": "",
      "sessionId": "0",
      "userId": ""
     },
     "user_tz": 480
    },
    "id": "IRSyYiIIGIzS",
    "outputId": "3f8996ee-3574-4f44-c953-5c8a04636582"
   },
   "outputs": [
    {
     "name": "stdout",
     "output_type": "stream",
     "text": [
      "Training set (200000, 784) (200000, 10)\n",
      "Validation set (10000, 784) (10000, 10)\n",
      "Test set (10000, 784) (10000, 10)\n"
     ]
    }
   ],
   "source": [
    "image_size = 28\n",
    "num_labels = 10\n",
    "\n",
    "def reformat(dataset, labels):\n",
    "  dataset = dataset.reshape((-1, image_size * image_size)).astype(np.float32)\n",
    "  # Map 1 to [0.0, 1.0, 0.0 ...], 2 to [0.0, 0.0, 1.0 ...]\n",
    "  labels = (np.arange(num_labels) == labels[:,None]).astype(np.float32)\n",
    "  return dataset, labels\n",
    "train_dataset, train_labels = reformat(train_dataset, train_labels)\n",
    "valid_dataset, valid_labels = reformat(valid_dataset, valid_labels)\n",
    "test_dataset, test_labels = reformat(test_dataset, test_labels)\n",
    "print('Training set', train_dataset.shape, train_labels.shape)\n",
    "print('Validation set', valid_dataset.shape, valid_labels.shape)\n",
    "print('Test set', test_dataset.shape, test_labels.shape)"
   ]
  },
  {
   "cell_type": "code",
   "execution_count": 4,
   "metadata": {
    "cellView": "both",
    "colab": {
     "autoexec": {
      "startup": false,
      "wait_interval": 0
     }
    },
    "colab_type": "code",
    "collapsed": true,
    "deletable": true,
    "editable": true,
    "id": "RajPLaL_ZW6w"
   },
   "outputs": [],
   "source": [
    "def accuracy(predictions, labels):\n",
    "  return (100.0 * np.sum(np.argmax(predictions, 1) == np.argmax(labels, 1))\n",
    "          / predictions.shape[0])"
   ]
  },
  {
   "cell_type": "markdown",
   "metadata": {
    "colab_type": "text",
    "deletable": true,
    "editable": true,
    "id": "sgLbUAQ1CW-1"
   },
   "source": [
    "---\n",
    "Problem 1\n",
    "---------\n",
    "\n",
    "Introduce and tune L2 regularization for both logistic and neural network models. Remember that L2 amounts to adding a penalty on the norm of the weights to the loss. In TensorFlow, you can compute the L2 loss for a tensor `t` using `nn.l2_loss(t)`. The right amount of regularization should improve your validation / test accuracy.\n",
    "\n",
    "---"
   ]
  },
  {
   "cell_type": "code",
   "execution_count": 5,
   "metadata": {
    "collapsed": false
   },
   "outputs": [],
   "source": [
    "logistic_graph = tf.Graph()\n",
    "with logistic_graph.as_default():\n",
    "    \n",
    "    tf_l2_reg  = tf.constant( 1e-2 )\n",
    "    tf_train_x = tf.placeholder(tf.float32, shape=[None, image_size*image_size])\n",
    "    tf_train_y = tf.placeholder(tf.float32, shape=[None, num_labels])\n",
    "    tf_keep_prob = tf.placeholder(tf.float32)\n",
    "    \n",
    "    w1_fc = tf.Variable( tf.truncated_normal([image_size*image_size, num_labels]) )\n",
    "    b1_fc = tf.Variable( tf.zeros(num_labels) )\n",
    "    \n",
    "    logits = tf.nn.dropout(\n",
    "        (tf.matmul( tf_train_x, w1_fc ) + b1_fc), tf_keep_prob )\n",
    "    loss = tf.reduce_mean( tf.nn.softmax_cross_entropy_with_logits( \n",
    "        labels = tf_train_y, logits = logits ) + tf.nn.l2_loss(w1_fc)*tf_l2_reg )\n",
    "    \n",
    "    train_step = tf.train.GradientDescentOptimizer(0.5).minimize(loss)\n",
    "    train_pred = tf.nn.softmax(logits)"
   ]
  },
  {
   "cell_type": "code",
   "execution_count": 6,
   "metadata": {
    "collapsed": false
   },
   "outputs": [
    {
     "name": "stdout",
     "output_type": "stream",
     "text": [
      "Initialized\n",
      "Loss at step 0: train_loss 48.574844, train_acc 7.9%\n",
      "  valid_acc 10.7%\n",
      "Loss at step 100: train_loss 11.776622, train_acc 72.8%\n",
      "  valid_acc 72.6%\n",
      "Loss at step 200: train_loss 4.445036, train_acc 78.7%\n",
      "  valid_acc 77.5%\n",
      "Loss at step 300: train_loss 1.964018, train_acc 82.2%\n",
      "  valid_acc 80.4%\n",
      "Loss at step 400: train_loss 1.123256, train_acc 83.7%\n",
      "  valid_acc 82.1%\n",
      "Loss at step 500: train_loss 0.834843, train_acc 84.2%\n",
      "  valid_acc 82.7%\n",
      "Loss at step 600: train_loss 0.734666, train_acc 84.4%\n",
      "  valid_acc 82.9%\n",
      "Loss at step 700: train_loss 0.699533, train_acc 84.5%\n",
      "  valid_acc 83.0%\n",
      "Loss at step 800: train_loss 0.687121, train_acc 84.6%\n",
      "  valid_acc 83.0%\n",
      "Test accuracy: 88.5%\n"
     ]
    }
   ],
   "source": [
    "num_steps = 801\n",
    "train_subset = 10000\n",
    "\n",
    "with tf.Session(graph = logistic_graph) as sess:\n",
    "    tf.global_variables_initializer().run()\n",
    "    print('Initialized')\n",
    "    for step in range(num_steps):\n",
    "        train_feed_dict = { tf_train_x: train_dataset[:train_subset,:], \n",
    "                            tf_train_y: train_labels[:train_subset],\n",
    "                            tf_keep_prob: 1.0 }\n",
    "        _, l, pred = sess.run([train_step, loss, train_pred], \n",
    "                              feed_dict = train_feed_dict)\n",
    "        if step % 100 == 0:\n",
    "            train_acc = accuracy(pred, train_labels[:train_subset])\n",
    "            print ('Loss at step %d: train_loss %f, train_acc %.1f%%'% (step, l, train_acc))\n",
    "            valid_feed_dict = { tf_train_x: valid_dataset, \n",
    "                                tf_train_y: valid_labels,\n",
    "                                tf_keep_prob: 1.0}            \n",
    "            valid_pred = sess.run(train_pred, feed_dict = valid_feed_dict)\n",
    "            valid_acc = accuracy( valid_pred, valid_labels )\n",
    "            print ('  valid_acc %.1f%%'% (valid_acc) )\n",
    "    test_feed_dict = { tf_train_x: test_dataset, \n",
    "                       tf_train_y: test_labels,\n",
    "                       tf_keep_prob: 1.0}\n",
    "    test_pred = sess.run( train_pred, feed_dict = test_feed_dict )\n",
    "    test_acc = accuracy( test_pred, test_labels )\n",
    "    print ('Test accuracy: %.1f%%'% (test_acc))\n",
    "            \n",
    "        "
   ]
  },
  {
   "cell_type": "markdown",
   "metadata": {
    "colab_type": "text",
    "deletable": true,
    "editable": true,
    "id": "na8xX2yHZzNF"
   },
   "source": [
    "---\n",
    "Problem 2\n",
    "---------\n",
    "Let's demonstrate an extreme case of overfitting. Restrict your training data to just a few batches. What happens?\n",
    "\n",
    "---"
   ]
  },
  {
   "cell_type": "code",
   "execution_count": 7,
   "metadata": {
    "collapsed": false
   },
   "outputs": [
    {
     "name": "stdout",
     "output_type": "stream",
     "text": [
      "Initialized\n",
      "Loss at step 0: train_loss 42.487843, train_acc 13.0%\n",
      "  valid_acc 15.6%\n",
      "Loss at step 100: train_loss 11.011569, train_acc 100.0%\n",
      "  valid_acc 51.0%\n",
      "Loss at step 200: train_loss 4.105383, train_acc 100.0%\n",
      "  valid_acc 56.4%\n",
      "Loss at step 300: train_loss 1.583164, train_acc 100.0%\n",
      "  valid_acc 61.2%\n",
      "Loss at step 400: train_loss 0.664014, train_acc 100.0%\n",
      "  valid_acc 64.3%\n",
      "Loss at step 500: train_loss 0.328745, train_acc 100.0%\n",
      "  valid_acc 66.0%\n",
      "Loss at step 600: train_loss 0.206145, train_acc 100.0%\n",
      "  valid_acc 67.0%\n",
      "Loss at step 700: train_loss 0.161095, train_acc 100.0%\n",
      "  valid_acc 67.0%\n",
      "Loss at step 800: train_loss 0.144370, train_acc 100.0%\n",
      "  valid_acc 67.0%\n",
      "Test accuracy: 72.9%\n"
     ]
    }
   ],
   "source": [
    "num_steps = 801\n",
    "train_subset = 100\n",
    "\n",
    "with tf.Session(graph = logistic_graph) as sess:\n",
    "    tf.global_variables_initializer().run()\n",
    "    print('Initialized')\n",
    "    for step in range(num_steps):\n",
    "        train_feed_dict = { tf_train_x: train_dataset[:train_subset,:], \n",
    "                            tf_train_y: train_labels[:train_subset],\n",
    "                            tf_keep_prob: 1.0}\n",
    "        _, l, pred = sess.run([train_step, loss, train_pred], \n",
    "                              feed_dict = train_feed_dict)\n",
    "        if step % 100 == 0:\n",
    "            train_acc = accuracy(pred, train_labels[:train_subset])\n",
    "            print ('Loss at step %d: train_loss %f, train_acc %.1f%%'% (step, l, train_acc))\n",
    "            valid_feed_dict = { tf_train_x: valid_dataset, \n",
    "                                tf_train_y: valid_labels,\n",
    "                                tf_keep_prob: 1.0 }            \n",
    "            valid_pred = sess.run(train_pred, feed_dict = valid_feed_dict)\n",
    "            valid_acc = accuracy( valid_pred, valid_labels )\n",
    "            print ('  valid_acc %.1f%%'% (valid_acc) )\n",
    "    test_feed_dict = { tf_train_x: test_dataset, \n",
    "                       tf_train_y: test_labels,\n",
    "                       tf_keep_prob: 1.0 }\n",
    "    test_pred = sess.run( train_pred, feed_dict = test_feed_dict )\n",
    "    test_acc = accuracy( test_pred, test_labels )\n",
    "    print ('Test accuracy: %.1f%%'% (test_acc))"
   ]
  },
  {
   "cell_type": "markdown",
   "metadata": {
    "colab_type": "text",
    "deletable": true,
    "editable": true,
    "id": "ww3SCBUdlkRc"
   },
   "source": [
    "---\n",
    "Problem 3\n",
    "---------\n",
    "Introduce Dropout on the hidden layer of the neural network. Remember: Dropout should only be introduced during training, not evaluation, otherwise your evaluation results would be stochastic as well. TensorFlow provides `nn.dropout()` for that, but you have to make sure it's only inserted during training.\n",
    "\n",
    "What happens to our extreme overfitting case?\n",
    "\n",
    "---"
   ]
  },
  {
   "cell_type": "code",
   "execution_count": 8,
   "metadata": {
    "collapsed": false,
    "deletable": true,
    "editable": true
   },
   "outputs": [
    {
     "name": "stdout",
     "output_type": "stream",
     "text": [
      "Initialized\n",
      "Loss at step 0: train_loss 61.717518, train_acc 7.0%\n",
      "  valid_acc 13.3%\n",
      "Loss at step 100: train_loss 12.451206, train_acc 35.0%\n",
      "  valid_acc 42.1%\n",
      "Loss at step 200: train_loss 5.602417, train_acc 33.0%\n",
      "  valid_acc 45.2%\n",
      "Loss at step 300: train_loss 2.958920, train_acc 37.0%\n",
      "  valid_acc 50.8%\n",
      "Loss at step 400: train_loss 2.119291, train_acc 35.0%\n",
      "  valid_acc 57.1%\n",
      "Loss at step 500: train_loss 1.873753, train_acc 28.0%\n",
      "  valid_acc 61.7%\n",
      "Loss at step 600: train_loss 1.674589, train_acc 33.0%\n",
      "  valid_acc 62.8%\n",
      "Loss at step 700: train_loss 1.754251, train_acc 25.0%\n",
      "  valid_acc 64.3%\n",
      "Loss at step 800: train_loss 1.619933, train_acc 34.0%\n",
      "  valid_acc 64.1%\n",
      "Test accuracy: 69.7%\n"
     ]
    }
   ],
   "source": [
    "num_steps = 801\n",
    "train_subset = 100\n",
    "\n",
    "with tf.Session(graph = logistic_graph) as sess:\n",
    "    tf.global_variables_initializer().run()\n",
    "    print('Initialized')\n",
    "    for step in range(num_steps):\n",
    "        train_feed_dict = { tf_train_x: train_dataset[:train_subset,:], \n",
    "                            tf_train_y: train_labels[:train_subset],\n",
    "                            tf_keep_prob: 0.25}\n",
    "        _, l, pred = sess.run([train_step, loss, train_pred], \n",
    "                              feed_dict = train_feed_dict)\n",
    "        if step % 100 == 0:\n",
    "            train_acc = accuracy(pred, train_labels[:train_subset])\n",
    "            print ('Loss at step %d: train_loss %f, train_acc %.1f%%'% (step, l, train_acc))\n",
    "            valid_feed_dict = { tf_train_x: valid_dataset, \n",
    "                                tf_train_y: valid_labels,\n",
    "                                tf_keep_prob: 1.0 }            \n",
    "            valid_pred = sess.run(train_pred, feed_dict = valid_feed_dict)\n",
    "            valid_acc = accuracy( valid_pred, valid_labels )\n",
    "            print ('  valid_acc %.1f%%'% (valid_acc) )\n",
    "    test_feed_dict = { tf_train_x: test_dataset, \n",
    "                       tf_train_y: test_labels,\n",
    "                       tf_keep_prob: 1.0 }\n",
    "    test_pred = sess.run( train_pred, feed_dict = test_feed_dict )\n",
    "    test_acc = accuracy( test_pred, test_labels )\n",
    "    print ('Test accuracy: %.1f%%'% (test_acc))"
   ]
  },
  {
   "cell_type": "markdown",
   "metadata": {
    "colab_type": "text",
    "deletable": true,
    "editable": true,
    "id": "-b1hTz3VWZjw"
   },
   "source": [
    "---\n",
    "Problem 4\n",
    "---------\n",
    "\n",
    "Try to get the best performance you can using a multi-layer model! The best reported test accuracy using a deep network is [97.1%](http://yaroslavvb.blogspot.com/2011/09/notmnist-dataset.html?showComment=1391023266211#c8758720086795711595).\n",
    "\n",
    "One avenue you can explore is to add multiple layers.\n",
    "\n",
    "Another one is to use learning rate decay:\n",
    "\n",
    "    global_step = tf.Variable(0)  # count the number of steps taken.\n",
    "    learning_rate = tf.train.exponential_decay(0.5, global_step, ...)\n",
    "    optimizer = tf.train.GradientDescentOptimizer(learning_rate).minimize(loss, global_step=global_step)\n",
    " \n",
    " ---\n"
   ]
  }
 ],
 "metadata": {
  "colab": {
   "default_view": {},
   "name": "3_regularization.ipynb",
   "provenance": [],
   "version": "0.3.2",
   "views": {}
  },
  "kernelspec": {
   "display_name": "Python 3",
   "language": "python",
   "name": "python3"
  },
  "language_info": {
   "codemirror_mode": {
    "name": "ipython",
    "version": 3
   },
   "file_extension": ".py",
   "mimetype": "text/x-python",
   "name": "python",
   "nbconvert_exporter": "python",
   "pygments_lexer": "ipython3",
   "version": "3.5.3"
  }
 },
 "nbformat": 4,
 "nbformat_minor": 0
}
